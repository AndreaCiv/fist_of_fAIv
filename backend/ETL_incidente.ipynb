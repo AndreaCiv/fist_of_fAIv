{
 "cells": [
  {
   "cell_type": "code",
   "execution_count": 14,
   "metadata": {
    "ExecuteTime": {
     "end_time": "2024-03-21T16:33:51.986457Z",
     "start_time": "2024-03-21T16:33:50.913129Z"
    }
   },
   "outputs": [],
   "source": [
    "import pandas as pd"
   ]
  },
  {
   "cell_type": "code",
   "execution_count": 15,
   "metadata": {
    "ExecuteTime": {
     "end_time": "2024-03-21T16:33:58.920274Z",
     "start_time": "2024-03-21T16:33:53.632474Z"
    }
   },
   "outputs": [
    {
     "name": "stderr",
     "output_type": "stream",
     "text": [
      "C:\\Users\\mikdr\\AppData\\Local\\Temp\\ipykernel_56632\\730475798.py:1: DtypeWarning: Columns (12,13) have mixed types. Specify dtype option on import or set low_memory=False.\n",
      "  df = pd.read_csv('dati_per_persona.csv')\n"
     ]
    }
   ],
   "source": [
    "df = pd.read_csv('dati_per_persona.csv')\n",
    "df.drop(columns='Unnamed: 0',inplace = True)"
   ]
  },
  {
   "cell_type": "code",
   "execution_count": 16,
   "metadata": {},
   "outputs": [],
   "source": [
    "def to_float(value):\n",
    "    if type(value)==float:\n",
    "        return value\n",
    "    else:\n",
    "        return float(value.replace(',', '.'))\n",
    "df['Latitudine'] = df['Latitudine'].apply(to_float)\n",
    "df['Longitudine'] = df['Longitudine'].apply(to_float)"
   ]
  },
  {
   "cell_type": "code",
   "execution_count": 17,
   "metadata": {},
   "outputs": [
    {
     "name": "stdout",
     "output_type": "stream",
     "text": [
      "Latitudine\n",
      "<class 'float'>    557481\n",
      "Name: count, dtype: int64\n",
      "Longitudine\n",
      "<class 'float'>    557481\n",
      "Name: count, dtype: int64\n"
     ]
    }
   ],
   "source": [
    "print(df['Latitudine'].apply(type).value_counts())\n",
    "print(df['Longitudine'].apply(type).value_counts())\n"
   ]
  },
  {
   "cell_type": "code",
   "execution_count": 18,
   "metadata": {
    "ExecuteTime": {
     "end_time": "2024-03-21T16:34:19.189338Z",
     "start_time": "2024-03-21T16:34:19.161121Z"
    },
    "collapsed": false
   },
   "outputs": [
    {
     "name": "stdout",
     "output_type": "stream",
     "text": [
      "Index(['Protocollo', 'Data', 'Localizzazione', 'Strada', 'NaturaIncidente',\n",
      "       'ParticolaritaStrade', 'Segnaletica', 'CondizioneAtmosferica',\n",
      "       'Traffico', 'Visibilita', 'Illuminazione', 'Latitudine', 'Longitudine',\n",
      "       'Ferito', 'Deceduti', 'TipoStrada', 'Pavimentazione'],\n",
      "      dtype='object')\n"
     ]
    }
   ],
   "source": [
    "print(df.columns)"
   ]
  },
  {
   "cell_type": "code",
   "execution_count": 19,
   "metadata": {
    "ExecuteTime": {
     "end_time": "2024-03-21T16:34:48.953745Z",
     "start_time": "2024-03-21T16:34:46.594503Z"
    }
   },
   "outputs": [
    {
     "name": "stdout",
     "output_type": "stream",
     "text": [
      "   Protocollo        Data Localizzazione                           Strada  \\\n",
      "0     1731131  13/07/2007  Strada Urbana                  VIALE CASTRENSE   \n",
      "1     1783987  05/12/2008  Strada Urbana             PIAZZA MASSA CARRARA   \n",
      "2     1810787  31/08/2009  Strada Urbana                       VIA CAVOUR   \n",
      "3     1826234  23/01/2010  Strada Urbana                     VIA MERULANA   \n",
      "4     1832366  22/03/2010  Strada Urbana                  VIA DEGLI ACERI   \n",
      "5     1844814  23/07/2010  Strada Urbana  VIA SAN MARTINO DELLA BATTAGLIA   \n",
      "6     1851364  08/10/2010        Statale                VIA PONTINA NUOVA   \n",
      "7     1851983  11/10/2010  Strada Urbana                   VIALE AVENTINO   \n",
      "8     1854818  07/11/2010  Strada Urbana            VIA BRUNO BRANDELLERO   \n",
      "9     1858127  11/12/2010  Strada Urbana                     VIA ANAGNINA   \n",
      "\n",
      "                                     NaturaIncidente  \\\n",
      "0             Scontro laterale fra veicoli in marcia   \n",
      "1                             Investimento di pedone   \n",
      "2  Scontro frontale/laterale SX fra veicoli in ma...   \n",
      "3             Infortunio per sola frenata improvvisa   \n",
      "4  Scontro frontale/laterale DX fra veicoli in ma...   \n",
      "5  Scontro frontale/laterale DX fra veicoli in ma...   \n",
      "6                    Fuoriuscita dalla sede stradale   \n",
      "7             Scontro laterale fra veicoli in marcia   \n",
      "8  Scontro frontale/laterale SX fra veicoli in ma...   \n",
      "9            Veicolo in marcia contro ostacolo fisso   \n",
      "\n",
      "          ParticolaritaStrade               Segnaletica CondizioneAtmosferica  \\\n",
      "0                  Rettilineo                 Verticale                Sereno   \n",
      "1                   Rotatoria  Verticale ed orizzontale       Pioggia in atto   \n",
      "2                  Rettilineo  Verticale ed orizzontale                Sereno   \n",
      "3                  Rettilineo               Orizzontale                Sereno   \n",
      "4                    Incrocio  Verticale ed orizzontale                Sereno   \n",
      "5  Intersezione semaforizzata  Verticale ed orizzontale                Sereno   \n",
      "6                  Rettilineo  Verticale ed orizzontale                Sereno   \n",
      "7                   Rotatoria  Verticale ed orizzontale       Pioggia in atto   \n",
      "8  Curva senza visuale libera  Verticale ed orizzontale       Pioggia in atto   \n",
      "9      Curva a visuale libera  Verticale ed orizzontale                Sereno   \n",
      "\n",
      "  Traffico     Visibilita Illuminazione  Latitudine  Longitudine  Ferito  \\\n",
      "0  Intenso          Buona    Ore Diurne    41.88918     12.51931       0   \n",
      "1  Normale          Buona   Sufficiente    41.91817     12.52550       1   \n",
      "2  Normale          Buona    Ore Diurne    41.89464     12.49314       0   \n",
      "3  Intenso          Buona   Sufficiente    41.89603     12.49967       1   \n",
      "4   Scarso  Insufficiente    Ore Diurne    41.87821     12.56750       0   \n",
      "5   Scarso          Buona   Sufficiente    41.90562     12.50358       2   \n",
      "6   Scarso  Insufficiente   Inesistente    41.90278     12.49637       1   \n",
      "7  Normale    Sufficiente    Ore Diurne    41.88266     12.48711       0   \n",
      "8   Scarso          Buona   Sufficiente    41.80501     12.45071       1   \n",
      "9  Normale  Insufficiente   Inesistente    41.80550     12.63382       1   \n",
      "\n",
      "   Deceduti                               TipoStrada         Pavimentazione  \n",
      "0         0                          Due carreggiate              Asfaltata  \n",
      "1         0  Una carreggiata a senso unico di marcia              Asfaltata  \n",
      "2         0           Una carreggiata a doppio senso              Asfaltata  \n",
      "3         0           Una carreggiata a doppio senso              Asfaltata  \n",
      "4         0  Una carreggiata a senso unico di marcia              Asfaltata  \n",
      "5         0           Una carreggiata a doppio senso              Asfaltata  \n",
      "6         0  Una carreggiata a senso unico di marcia              Asfaltata  \n",
      "7         0  Una carreggiata a senso unico di marcia  In cubetti di porfido  \n",
      "8         0           Una carreggiata a doppio senso              Asfaltata  \n",
      "9         0                          Due carreggiate              Asfaltata  \n",
      "(223984, 17)\n"
     ]
    }
   ],
   "source": [
    "df_compattato = df.groupby(['Protocollo']).agg({\n",
    "    'Data': 'first',\n",
    "    'Localizzazione': 'first',\n",
    "    'Strada': 'first',\n",
    "    'NaturaIncidente': 'first',\n",
    "    'ParticolaritaStrade': 'first',\n",
    "    'Segnaletica': 'first',\n",
    "    'CondizioneAtmosferica': 'first',\n",
    "    'Traffico': 'first',\n",
    "    'Visibilita': 'first',\n",
    "    'Illuminazione': 'first',\n",
    "    'Latitudine': 'first',\n",
    "    'Longitudine': 'first',\n",
    "    'Ferito': 'sum',\n",
    "    'Deceduti': 'sum',\n",
    "    'TipoStrada':'first',\n",
    "    'Pavimentazione':'first'\n",
    "}).reset_index()\n",
    "\n",
    "print(df_compattato.head(10))\n",
    "print(df_compattato.shape)\n",
    "\n"
   ]
  },
  {
   "cell_type": "code",
   "execution_count": 20,
   "metadata": {
    "ExecuteTime": {
     "end_time": "2024-03-21T16:34:57.587495Z",
     "start_time": "2024-03-21T16:34:57.338520Z"
    }
   },
   "outputs": [],
   "source": [
    "df_compattato = df_compattato.rename(columns={'Ferito': 'Feriti'})\n",
    "df_compattato = df_compattato.drop(columns=['Protocollo'])"
   ]
  },
  {
   "cell_type": "code",
   "execution_count": 21,
   "metadata": {
    "ExecuteTime": {
     "end_time": "2024-03-21T16:35:32.292452Z",
     "start_time": "2024-03-21T16:35:31.413166Z"
    }
   },
   "outputs": [],
   "source": [
    "df_compattato.to_json('dataset_incidenti.json', orient='records')"
   ]
  },
  {
   "cell_type": "code",
   "execution_count": null,
   "metadata": {
    "collapsed": false
   },
   "outputs": [],
   "source": []
  }
 ],
 "metadata": {
  "kernelspec": {
   "display_name": "Python 3",
   "language": "python",
   "name": "python3"
  },
  "language_info": {
   "codemirror_mode": {
    "name": "ipython",
    "version": 3
   },
   "file_extension": ".py",
   "mimetype": "text/x-python",
   "name": "python",
   "nbconvert_exporter": "python",
   "pygments_lexer": "ipython3",
   "version": "3.9.11"
  }
 },
 "nbformat": 4,
 "nbformat_minor": 2
}
