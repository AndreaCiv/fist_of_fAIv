{
 "cells": [
  {
   "cell_type": "code",
   "execution_count": 1,
   "metadata": {},
   "outputs": [],
   "source": [
    "import pandas as pd"
   ]
  },
  {
   "cell_type": "code",
   "execution_count": 2,
   "metadata": {},
   "outputs": [
    {
     "name": "stderr",
     "output_type": "stream",
     "text": [
      "C:\\Users\\mikdr\\AppData\\Local\\Temp\\ipykernel_39276\\730475798.py:1: DtypeWarning: Columns (12,13) have mixed types. Specify dtype option on import or set low_memory=False.\n",
      "  df = pd.read_csv('dati_per_persona.csv')\n"
     ]
    }
   ],
   "source": [
    "df = pd.read_csv('dati_per_persona.csv')\n",
    "df.drop(columns='Unnamed: 0',inplace = True)"
   ]
  },
  {
   "cell_type": "code",
   "execution_count": 4,
   "metadata": {},
   "outputs": [
    {
     "name": "stdout",
     "output_type": "stream",
     "text": [
      "   Protocollo        Data Localizzazione                           Strada  \\\n",
      "0     1731131  13/07/2007  Strada Urbana                  VIALE CASTRENSE   \n",
      "1     1783987  05/12/2008  Strada Urbana             PIAZZA MASSA CARRARA   \n",
      "2     1810787  31/08/2009  Strada Urbana                       VIA CAVOUR   \n",
      "3     1826234  23/01/2010  Strada Urbana                     VIA MERULANA   \n",
      "4     1832366  22/03/2010  Strada Urbana                  VIA DEGLI ACERI   \n",
      "5     1844814  23/07/2010  Strada Urbana  VIA SAN MARTINO DELLA BATTAGLIA   \n",
      "6     1851364  08/10/2010        Statale                VIA PONTINA NUOVA   \n",
      "7     1851983  11/10/2010  Strada Urbana                   VIALE AVENTINO   \n",
      "8     1854818  07/11/2010  Strada Urbana            VIA BRUNO BRANDELLERO   \n",
      "9     1858127  11/12/2010  Strada Urbana                     VIA ANAGNINA   \n",
      "\n",
      "                                     NaturaIncidente  \\\n",
      "0             Scontro laterale fra veicoli in marcia   \n",
      "1                             Investimento di pedone   \n",
      "2  Scontro frontale/laterale SX fra veicoli in ma...   \n",
      "3             Infortunio per sola frenata improvvisa   \n",
      "4  Scontro frontale/laterale DX fra veicoli in ma...   \n",
      "5  Scontro frontale/laterale DX fra veicoli in ma...   \n",
      "6                    Fuoriuscita dalla sede stradale   \n",
      "7             Scontro laterale fra veicoli in marcia   \n",
      "8  Scontro frontale/laterale SX fra veicoli in ma...   \n",
      "9            Veicolo in marcia contro ostacolo fisso   \n",
      "\n",
      "          ParticolaritaStrade               Segnaletica CondizioneAtmosferica  \\\n",
      "0                  Rettilineo                 Verticale                Sereno   \n",
      "1                   Rotatoria  Verticale ed orizzontale       Pioggia in atto   \n",
      "2                  Rettilineo  Verticale ed orizzontale                Sereno   \n",
      "3                  Rettilineo               Orizzontale                Sereno   \n",
      "4                    Incrocio  Verticale ed orizzontale                Sereno   \n",
      "5  Intersezione semaforizzata  Verticale ed orizzontale                Sereno   \n",
      "6                  Rettilineo  Verticale ed orizzontale                Sereno   \n",
      "7                   Rotatoria  Verticale ed orizzontale       Pioggia in atto   \n",
      "8  Curva senza visuale libera  Verticale ed orizzontale       Pioggia in atto   \n",
      "9      Curva a visuale libera  Verticale ed orizzontale                Sereno   \n",
      "\n",
      "  Traffico     Visibilita Illuminazione Latitudine Longitudine  Ferito  \\\n",
      "0  Intenso          Buona    Ore Diurne   41,88918    12,51931       0   \n",
      "1  Normale          Buona   Sufficiente   41,91817     12,5255       1   \n",
      "2  Normale          Buona    Ore Diurne   41,89464    12,49314       0   \n",
      "3  Intenso          Buona   Sufficiente   41,89603    12,49967       1   \n",
      "4   Scarso  Insufficiente    Ore Diurne   41,87821     12,5675       0   \n",
      "5   Scarso          Buona   Sufficiente   41,90562    12,50358       2   \n",
      "6   Scarso  Insufficiente   Inesistente   41,90278    12,49637       1   \n",
      "7  Normale    Sufficiente    Ore Diurne   41,88266    12,48711       0   \n",
      "8   Scarso          Buona   Sufficiente   41,80501    12,45071       1   \n",
      "9  Normale  Insufficiente   Inesistente    41,8055    12,63382       1   \n",
      "\n",
      "   Deceduti  \n",
      "0         0  \n",
      "1         0  \n",
      "2         0  \n",
      "3         0  \n",
      "4         0  \n",
      "5         0  \n",
      "6         0  \n",
      "7         0  \n",
      "8         0  \n",
      "9         0  \n",
      "(223984, 15)\n"
     ]
    }
   ],
   "source": [
    "df_compattato = df.groupby(['Protocollo']).agg({\n",
    "    'Data': 'first',\n",
    "    'Localizzazione': 'first',\n",
    "    'Strada': 'first',\n",
    "    'NaturaIncidente': 'first',\n",
    "    'ParticolaritaStrade': 'first',\n",
    "    'Segnaletica': 'first',\n",
    "    'CondizioneAtmosferica': 'first',\n",
    "    'Traffico': 'first',\n",
    "    'Visibilita': 'first',\n",
    "    'Illuminazione': 'first',\n",
    "    'Latitudine': 'first',\n",
    "    'Longitudine': 'first',\n",
    "    'Ferito': 'sum',\n",
    "    'Deceduti': 'sum'\n",
    "}).reset_index()\n",
    "\n",
    "print(df_compattato.head(10))\n",
    "print(df_compattato.shape)\n"
   ]
  },
  {
   "cell_type": "code",
   "execution_count": 11,
   "metadata": {},
   "outputs": [
    {
     "ename": "KeyError",
     "evalue": "\"['Protocollo'] not found in axis\"",
     "output_type": "error",
     "traceback": [
      "\u001b[1;31m---------------------------------------------------------------------------\u001b[0m",
      "\u001b[1;31mKeyError\u001b[0m                                  Traceback (most recent call last)",
      "Cell \u001b[1;32mIn[11], line 2\u001b[0m\n\u001b[0;32m      1\u001b[0m df_compattato \u001b[38;5;241m=\u001b[39m df_compattato\u001b[38;5;241m.\u001b[39mrename(columns\u001b[38;5;241m=\u001b[39m{\u001b[38;5;124m'\u001b[39m\u001b[38;5;124mFerito\u001b[39m\u001b[38;5;124m'\u001b[39m: \u001b[38;5;124m'\u001b[39m\u001b[38;5;124mFeriti\u001b[39m\u001b[38;5;124m'\u001b[39m})\n\u001b[1;32m----> 2\u001b[0m df_compattato \u001b[38;5;241m=\u001b[39m \u001b[43mdf_compattato\u001b[49m\u001b[38;5;241;43m.\u001b[39;49m\u001b[43mdrop\u001b[49m\u001b[43m(\u001b[49m\u001b[43mcolumns\u001b[49m\u001b[38;5;241;43m=\u001b[39;49m\u001b[43m[\u001b[49m\u001b[38;5;124;43m'\u001b[39;49m\u001b[38;5;124;43mProtocollo\u001b[39;49m\u001b[38;5;124;43m'\u001b[39;49m\u001b[43m]\u001b[49m\u001b[43m)\u001b[49m\n\u001b[0;32m      3\u001b[0m \u001b[38;5;28mprint\u001b[39m(df_compattato\u001b[38;5;241m.\u001b[39mhead(\u001b[38;5;241m10\u001b[39m))\n",
      "File \u001b[1;32mc:\\Users\\mikdr\\AppData\\Local\\Programs\\Python\\Python39\\lib\\site-packages\\pandas\\core\\frame.py:5344\u001b[0m, in \u001b[0;36mDataFrame.drop\u001b[1;34m(self, labels, axis, index, columns, level, inplace, errors)\u001b[0m\n\u001b[0;32m   5196\u001b[0m \u001b[38;5;28;01mdef\u001b[39;00m \u001b[38;5;21mdrop\u001b[39m(\n\u001b[0;32m   5197\u001b[0m     \u001b[38;5;28mself\u001b[39m,\n\u001b[0;32m   5198\u001b[0m     labels: IndexLabel \u001b[38;5;241m|\u001b[39m \u001b[38;5;28;01mNone\u001b[39;00m \u001b[38;5;241m=\u001b[39m \u001b[38;5;28;01mNone\u001b[39;00m,\n\u001b[1;32m   (...)\u001b[0m\n\u001b[0;32m   5205\u001b[0m     errors: IgnoreRaise \u001b[38;5;241m=\u001b[39m \u001b[38;5;124m\"\u001b[39m\u001b[38;5;124mraise\u001b[39m\u001b[38;5;124m\"\u001b[39m,\n\u001b[0;32m   5206\u001b[0m ) \u001b[38;5;241m-\u001b[39m\u001b[38;5;241m>\u001b[39m DataFrame \u001b[38;5;241m|\u001b[39m \u001b[38;5;28;01mNone\u001b[39;00m:\n\u001b[0;32m   5207\u001b[0m \u001b[38;5;250m    \u001b[39m\u001b[38;5;124;03m\"\"\"\u001b[39;00m\n\u001b[0;32m   5208\u001b[0m \u001b[38;5;124;03m    Drop specified labels from rows or columns.\u001b[39;00m\n\u001b[0;32m   5209\u001b[0m \n\u001b[1;32m   (...)\u001b[0m\n\u001b[0;32m   5342\u001b[0m \u001b[38;5;124;03m            weight  1.0     0.8\u001b[39;00m\n\u001b[0;32m   5343\u001b[0m \u001b[38;5;124;03m    \"\"\"\u001b[39;00m\n\u001b[1;32m-> 5344\u001b[0m     \u001b[38;5;28;01mreturn\u001b[39;00m \u001b[38;5;28;43msuper\u001b[39;49m\u001b[43m(\u001b[49m\u001b[43m)\u001b[49m\u001b[38;5;241;43m.\u001b[39;49m\u001b[43mdrop\u001b[49m\u001b[43m(\u001b[49m\n\u001b[0;32m   5345\u001b[0m \u001b[43m        \u001b[49m\u001b[43mlabels\u001b[49m\u001b[38;5;241;43m=\u001b[39;49m\u001b[43mlabels\u001b[49m\u001b[43m,\u001b[49m\n\u001b[0;32m   5346\u001b[0m \u001b[43m        \u001b[49m\u001b[43maxis\u001b[49m\u001b[38;5;241;43m=\u001b[39;49m\u001b[43maxis\u001b[49m\u001b[43m,\u001b[49m\n\u001b[0;32m   5347\u001b[0m \u001b[43m        \u001b[49m\u001b[43mindex\u001b[49m\u001b[38;5;241;43m=\u001b[39;49m\u001b[43mindex\u001b[49m\u001b[43m,\u001b[49m\n\u001b[0;32m   5348\u001b[0m \u001b[43m        \u001b[49m\u001b[43mcolumns\u001b[49m\u001b[38;5;241;43m=\u001b[39;49m\u001b[43mcolumns\u001b[49m\u001b[43m,\u001b[49m\n\u001b[0;32m   5349\u001b[0m \u001b[43m        \u001b[49m\u001b[43mlevel\u001b[49m\u001b[38;5;241;43m=\u001b[39;49m\u001b[43mlevel\u001b[49m\u001b[43m,\u001b[49m\n\u001b[0;32m   5350\u001b[0m \u001b[43m        \u001b[49m\u001b[43minplace\u001b[49m\u001b[38;5;241;43m=\u001b[39;49m\u001b[43minplace\u001b[49m\u001b[43m,\u001b[49m\n\u001b[0;32m   5351\u001b[0m \u001b[43m        \u001b[49m\u001b[43merrors\u001b[49m\u001b[38;5;241;43m=\u001b[39;49m\u001b[43merrors\u001b[49m\u001b[43m,\u001b[49m\n\u001b[0;32m   5352\u001b[0m \u001b[43m    \u001b[49m\u001b[43m)\u001b[49m\n",
      "File \u001b[1;32mc:\\Users\\mikdr\\AppData\\Local\\Programs\\Python\\Python39\\lib\\site-packages\\pandas\\core\\generic.py:4711\u001b[0m, in \u001b[0;36mNDFrame.drop\u001b[1;34m(self, labels, axis, index, columns, level, inplace, errors)\u001b[0m\n\u001b[0;32m   4709\u001b[0m \u001b[38;5;28;01mfor\u001b[39;00m axis, labels \u001b[38;5;129;01min\u001b[39;00m axes\u001b[38;5;241m.\u001b[39mitems():\n\u001b[0;32m   4710\u001b[0m     \u001b[38;5;28;01mif\u001b[39;00m labels \u001b[38;5;129;01mis\u001b[39;00m \u001b[38;5;129;01mnot\u001b[39;00m \u001b[38;5;28;01mNone\u001b[39;00m:\n\u001b[1;32m-> 4711\u001b[0m         obj \u001b[38;5;241m=\u001b[39m \u001b[43mobj\u001b[49m\u001b[38;5;241;43m.\u001b[39;49m\u001b[43m_drop_axis\u001b[49m\u001b[43m(\u001b[49m\u001b[43mlabels\u001b[49m\u001b[43m,\u001b[49m\u001b[43m \u001b[49m\u001b[43maxis\u001b[49m\u001b[43m,\u001b[49m\u001b[43m \u001b[49m\u001b[43mlevel\u001b[49m\u001b[38;5;241;43m=\u001b[39;49m\u001b[43mlevel\u001b[49m\u001b[43m,\u001b[49m\u001b[43m \u001b[49m\u001b[43merrors\u001b[49m\u001b[38;5;241;43m=\u001b[39;49m\u001b[43merrors\u001b[49m\u001b[43m)\u001b[49m\n\u001b[0;32m   4713\u001b[0m \u001b[38;5;28;01mif\u001b[39;00m inplace:\n\u001b[0;32m   4714\u001b[0m     \u001b[38;5;28mself\u001b[39m\u001b[38;5;241m.\u001b[39m_update_inplace(obj)\n",
      "File \u001b[1;32mc:\\Users\\mikdr\\AppData\\Local\\Programs\\Python\\Python39\\lib\\site-packages\\pandas\\core\\generic.py:4753\u001b[0m, in \u001b[0;36mNDFrame._drop_axis\u001b[1;34m(self, labels, axis, level, errors, only_slice)\u001b[0m\n\u001b[0;32m   4751\u001b[0m         new_axis \u001b[38;5;241m=\u001b[39m axis\u001b[38;5;241m.\u001b[39mdrop(labels, level\u001b[38;5;241m=\u001b[39mlevel, errors\u001b[38;5;241m=\u001b[39merrors)\n\u001b[0;32m   4752\u001b[0m     \u001b[38;5;28;01melse\u001b[39;00m:\n\u001b[1;32m-> 4753\u001b[0m         new_axis \u001b[38;5;241m=\u001b[39m \u001b[43maxis\u001b[49m\u001b[38;5;241;43m.\u001b[39;49m\u001b[43mdrop\u001b[49m\u001b[43m(\u001b[49m\u001b[43mlabels\u001b[49m\u001b[43m,\u001b[49m\u001b[43m \u001b[49m\u001b[43merrors\u001b[49m\u001b[38;5;241;43m=\u001b[39;49m\u001b[43merrors\u001b[49m\u001b[43m)\u001b[49m\n\u001b[0;32m   4754\u001b[0m     indexer \u001b[38;5;241m=\u001b[39m axis\u001b[38;5;241m.\u001b[39mget_indexer(new_axis)\n\u001b[0;32m   4756\u001b[0m \u001b[38;5;66;03m# Case for non-unique axis\u001b[39;00m\n\u001b[0;32m   4757\u001b[0m \u001b[38;5;28;01melse\u001b[39;00m:\n",
      "File \u001b[1;32mc:\\Users\\mikdr\\AppData\\Local\\Programs\\Python\\Python39\\lib\\site-packages\\pandas\\core\\indexes\\base.py:7000\u001b[0m, in \u001b[0;36mIndex.drop\u001b[1;34m(self, labels, errors)\u001b[0m\n\u001b[0;32m   6998\u001b[0m \u001b[38;5;28;01mif\u001b[39;00m mask\u001b[38;5;241m.\u001b[39many():\n\u001b[0;32m   6999\u001b[0m     \u001b[38;5;28;01mif\u001b[39;00m errors \u001b[38;5;241m!=\u001b[39m \u001b[38;5;124m\"\u001b[39m\u001b[38;5;124mignore\u001b[39m\u001b[38;5;124m\"\u001b[39m:\n\u001b[1;32m-> 7000\u001b[0m         \u001b[38;5;28;01mraise\u001b[39;00m \u001b[38;5;167;01mKeyError\u001b[39;00m(\u001b[38;5;124mf\u001b[39m\u001b[38;5;124m\"\u001b[39m\u001b[38;5;132;01m{\u001b[39;00mlabels[mask]\u001b[38;5;241m.\u001b[39mtolist()\u001b[38;5;132;01m}\u001b[39;00m\u001b[38;5;124m not found in axis\u001b[39m\u001b[38;5;124m\"\u001b[39m)\n\u001b[0;32m   7001\u001b[0m     indexer \u001b[38;5;241m=\u001b[39m indexer[\u001b[38;5;241m~\u001b[39mmask]\n\u001b[0;32m   7002\u001b[0m \u001b[38;5;28;01mreturn\u001b[39;00m \u001b[38;5;28mself\u001b[39m\u001b[38;5;241m.\u001b[39mdelete(indexer)\n",
      "\u001b[1;31mKeyError\u001b[0m: \"['Protocollo'] not found in axis\""
     ]
    }
   ],
   "source": [
    "df_compattato = df_compattato.rename(columns={'Ferito': 'Feriti'})\n",
    "df_compattato = df_compattato.drop(columns=['Protocollo'])"
   ]
  },
  {
   "cell_type": "code",
   "execution_count": 12,
   "metadata": {},
   "outputs": [
    {
     "name": "stdout",
     "output_type": "stream",
     "text": [
      "         Data Localizzazione                           Strada  \\\n",
      "0  13/07/2007  Strada Urbana                  VIALE CASTRENSE   \n",
      "1  05/12/2008  Strada Urbana             PIAZZA MASSA CARRARA   \n",
      "2  31/08/2009  Strada Urbana                       VIA CAVOUR   \n",
      "3  23/01/2010  Strada Urbana                     VIA MERULANA   \n",
      "4  22/03/2010  Strada Urbana                  VIA DEGLI ACERI   \n",
      "5  23/07/2010  Strada Urbana  VIA SAN MARTINO DELLA BATTAGLIA   \n",
      "6  08/10/2010        Statale                VIA PONTINA NUOVA   \n",
      "7  11/10/2010  Strada Urbana                   VIALE AVENTINO   \n",
      "8  07/11/2010  Strada Urbana            VIA BRUNO BRANDELLERO   \n",
      "9  11/12/2010  Strada Urbana                     VIA ANAGNINA   \n",
      "\n",
      "                                     NaturaIncidente  \\\n",
      "0             Scontro laterale fra veicoli in marcia   \n",
      "1                             Investimento di pedone   \n",
      "2  Scontro frontale/laterale SX fra veicoli in ma...   \n",
      "3             Infortunio per sola frenata improvvisa   \n",
      "4  Scontro frontale/laterale DX fra veicoli in ma...   \n",
      "5  Scontro frontale/laterale DX fra veicoli in ma...   \n",
      "6                    Fuoriuscita dalla sede stradale   \n",
      "7             Scontro laterale fra veicoli in marcia   \n",
      "8  Scontro frontale/laterale SX fra veicoli in ma...   \n",
      "9            Veicolo in marcia contro ostacolo fisso   \n",
      "\n",
      "          ParticolaritaStrade               Segnaletica CondizioneAtmosferica  \\\n",
      "0                  Rettilineo                 Verticale                Sereno   \n",
      "1                   Rotatoria  Verticale ed orizzontale       Pioggia in atto   \n",
      "2                  Rettilineo  Verticale ed orizzontale                Sereno   \n",
      "3                  Rettilineo               Orizzontale                Sereno   \n",
      "4                    Incrocio  Verticale ed orizzontale                Sereno   \n",
      "5  Intersezione semaforizzata  Verticale ed orizzontale                Sereno   \n",
      "6                  Rettilineo  Verticale ed orizzontale                Sereno   \n",
      "7                   Rotatoria  Verticale ed orizzontale       Pioggia in atto   \n",
      "8  Curva senza visuale libera  Verticale ed orizzontale       Pioggia in atto   \n",
      "9      Curva a visuale libera  Verticale ed orizzontale                Sereno   \n",
      "\n",
      "  Traffico     Visibilita Illuminazione Latitudine Longitudine  Feriti  \\\n",
      "0  Intenso          Buona    Ore Diurne   41,88918    12,51931       0   \n",
      "1  Normale          Buona   Sufficiente   41,91817     12,5255       1   \n",
      "2  Normale          Buona    Ore Diurne   41,89464    12,49314       0   \n",
      "3  Intenso          Buona   Sufficiente   41,89603    12,49967       1   \n",
      "4   Scarso  Insufficiente    Ore Diurne   41,87821     12,5675       0   \n",
      "5   Scarso          Buona   Sufficiente   41,90562    12,50358       2   \n",
      "6   Scarso  Insufficiente   Inesistente   41,90278    12,49637       1   \n",
      "7  Normale    Sufficiente    Ore Diurne   41,88266    12,48711       0   \n",
      "8   Scarso          Buona   Sufficiente   41,80501    12,45071       1   \n",
      "9  Normale  Insufficiente   Inesistente    41,8055    12,63382       1   \n",
      "\n",
      "   Deceduti  \n",
      "0         0  \n",
      "1         0  \n",
      "2         0  \n",
      "3         0  \n",
      "4         0  \n",
      "5         0  \n",
      "6         0  \n",
      "7         0  \n",
      "8         0  \n",
      "9         0  \n"
     ]
    }
   ],
   "source": [
    "print(df_compattato.head(10))\n"
   ]
  },
  {
   "cell_type": "code",
   "execution_count": 13,
   "metadata": {},
   "outputs": [],
   "source": [
    "df_compattato.to_json('dataset_incidenti.json')"
   ]
  }
 ],
 "metadata": {
  "kernelspec": {
   "display_name": "Python 3",
   "language": "python",
   "name": "python3"
  },
  "language_info": {
   "codemirror_mode": {
    "name": "ipython",
    "version": 3
   },
   "file_extension": ".py",
   "mimetype": "text/x-python",
   "name": "python",
   "nbconvert_exporter": "python",
   "pygments_lexer": "ipython3",
   "version": "3.9.11"
  }
 },
 "nbformat": 4,
 "nbformat_minor": 2
}
