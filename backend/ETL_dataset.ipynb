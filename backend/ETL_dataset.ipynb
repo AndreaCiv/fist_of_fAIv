{
 "cells": [
  {
   "cell_type": "code",
   "execution_count": 3,
   "id": "initial_id",
   "metadata": {
    "ExecuteTime": {
     "end_time": "2024-03-21T11:06:47.679525Z",
     "start_time": "2024-03-21T11:06:46.382505Z"
    },
    "collapsed": true
   },
   "outputs": [],
   "source": [
    "import pandas as pd\n",
    "import numpy as np"
   ]
  },
  {
   "cell_type": "code",
   "execution_count": 4,
   "id": "c18a4f6f95f7bc8c",
   "metadata": {
    "ExecuteTime": {
     "end_time": "2024-03-21T11:07:41.520825Z",
     "start_time": "2024-03-21T11:06:53.621855Z"
    },
    "collapsed": false
   },
   "outputs": [
    {
     "name": "stderr",
     "output_type": "stream",
     "text": [
      "C:\\Users\\mikdr\\AppData\\Local\\Temp\\ipykernel_39300\\2641605486.py:1: DtypeWarning: Columns (20,21,25,26,27,34) have mixed types. Specify dtype option on import or set low_memory=False.\n",
      "  df = pd.read_csv('dati.csv')\n"
     ]
    }
   ],
   "source": [
    "df = pd.read_csv('dati.csv')\n",
    "df.drop(columns='Unnamed: 0',inplace = True)"
   ]
  },
  {
   "cell_type": "code",
   "execution_count": 5,
   "id": "d23ee757958b7831",
   "metadata": {
    "ExecuteTime": {
     "end_time": "2024-03-21T11:01:42.668269Z",
     "start_time": "2024-03-21T11:01:38.843890Z"
    },
    "collapsed": false
   },
   "outputs": [],
   "source": [
    "# we get rid of some useless columns \n",
    "cols = ['Gruppo','NUM_RISERVATA', 'Confermato','Progressivo'] \n",
    "df = df.drop(cols, axis=1) "
   ]
  },
  {
   "cell_type": "code",
   "execution_count": 6,
   "id": "353988df17a6898d",
   "metadata": {
    "ExecuteTime": {
     "end_time": "2024-03-21T11:07:46.548732Z",
     "start_time": "2024-03-21T11:07:42.618221Z"
    },
    "collapsed": false
   },
   "outputs": [
    {
     "name": "stdout",
     "output_type": "stream",
     "text": [
      "[0 1]\n"
     ]
    }
   ],
   "source": [
    "# Mettiamo 1 dove una persona coinvolta è morta dopo l'incidente\n",
    "def replace_with_1(value):\n",
    "    if type(value) == float:\n",
    "        if value == 1.0:\n",
    "            return 1\n",
    "        else:\n",
    "            return 0\n",
    "    if value.startswith('DECEDUTO'):\n",
    "        return 1\n",
    "    else:\n",
    "        return 0\n",
    "df['DecedutoDopo'] = df['DecedutoDopo'].apply(replace_with_1)\n",
    "print(df['DecedutoDopo'].unique())"
   ]
  },
  {
   "cell_type": "code",
   "execution_count": 7,
   "id": "6e1cc710e3ba1165",
   "metadata": {
    "ExecuteTime": {
     "end_time": "2024-03-21T11:07:53.374361Z",
     "start_time": "2024-03-21T11:07:49.183342Z"
    },
    "collapsed": false
   },
   "outputs": [
    {
     "name": "stdout",
     "output_type": "stream",
     "text": [
      "[0 1]\n"
     ]
    }
   ],
   "source": [
    "# Mettiamo 1 dove una persona coinvolta è morta nell'incidente\n",
    "def replace_with_1_deceduto(value):\n",
    "    if value == -1 or value=='-1':\n",
    "        return 1\n",
    "    else:\n",
    "        return 0\n",
    "df['Deceduto'] = df['Deceduto'].apply(replace_with_1_deceduto)\n",
    "print(df['Deceduto'].unique())"
   ]
  },
  {
   "cell_type": "code",
   "execution_count": 8,
   "id": "ca8aef1a041c8d49",
   "metadata": {
    "ExecuteTime": {
     "end_time": "2024-03-21T11:08:16.567084Z",
     "start_time": "2024-03-21T11:08:16.479166Z"
    },
    "collapsed": false
   },
   "outputs": [
    {
     "name": "stdout",
     "output_type": "stream",
     "text": [
      "[0 1]\n"
     ]
    }
   ],
   "source": [
    "#Creo una nuova colonna con 1 se la persone è morta, 0 se non lo è\n",
    "df['Deceduti'] = df['Deceduto']+df['DecedutoDopo']\n",
    "print(df['Deceduti'].unique())"
   ]
  },
  {
   "cell_type": "code",
   "execution_count": 9,
   "id": "6639d49b296cfc59",
   "metadata": {
    "ExecuteTime": {
     "end_time": "2024-03-21T11:08:23.193301Z",
     "start_time": "2024-03-21T11:08:20.194820Z"
    },
    "collapsed": false
   },
   "outputs": [],
   "source": [
    "df = df.drop(columns=['DecedutoDopo','Deceduto'])"
   ]
  },
  {
   "cell_type": "code",
   "execution_count": 10,
   "id": "d2f841644118ffb1",
   "metadata": {
    "ExecuteTime": {
     "end_time": "2024-03-21T11:08:30.476987Z",
     "start_time": "2024-03-21T11:08:26.222564Z"
    },
    "collapsed": false
   },
   "outputs": [],
   "source": [
    "df = df.drop(df[df['NUM_FERITI'] == 'Ore Diurne'].index)\n",
    "df = df.drop(df[df['NUM_FERITI'] == 'Sufficiente'].index)"
   ]
  },
  {
   "cell_type": "code",
   "execution_count": 11,
   "id": "d1360c010ca7d12e",
   "metadata": {
    "ExecuteTime": {
     "end_time": "2024-03-21T11:08:32.552670Z",
     "start_time": "2024-03-21T11:08:32.145195Z"
    },
    "collapsed": false
   },
   "outputs": [],
   "source": [
    "df['NUM_FERITI'] = df['NUM_FERITI'].astype(int)"
   ]
  },
  {
   "cell_type": "code",
   "execution_count": 12,
   "id": "a85e2bb58dda04cb",
   "metadata": {
    "ExecuteTime": {
     "end_time": "2024-03-21T11:08:38.151275Z",
     "start_time": "2024-03-21T11:08:33.840351Z"
    },
    "collapsed": false
   },
   "outputs": [
    {
     "name": "stdout",
     "output_type": "stream",
     "text": [
      "0\n",
      "1\n"
     ]
    }
   ],
   "source": [
    "def definisci_ferito(value):\n",
    "    if type(value) == float:\n",
    "        return 0\n",
    "    if value.startswith('Illeso'):\n",
    "        return 0\n",
    "    if value in ['Rimandato', 'Ricoverato', 'Rifiuta cure immediate', 'Prognosi riservata', 'Deceduto durante prime cure', 'Deceduto durante trasporto', 'Deceduto sul posto']:\n",
    "        return 1\n",
    "    else:\n",
    "        return 0\n",
    "df['Ferito'] = df['Tipolesione'].apply(definisci_ferito)\n",
    "for valore in df['Ferito'].unique():\n",
    "    print(valore)"
   ]
  },
  {
   "cell_type": "code",
   "execution_count": 13,
   "id": "b32d61f516ac9e48",
   "metadata": {
    "ExecuteTime": {
     "end_time": "2024-03-21T11:02:46.573727Z",
     "start_time": "2024-03-21T11:02:42.996294Z"
    },
    "collapsed": false
   },
   "outputs": [],
   "source": [
    "df = df.drop(columns=['Tipolesione'])"
   ]
  },
  {
   "cell_type": "code",
   "execution_count": 14,
   "id": "f92dc7a6c458a1f9",
   "metadata": {
    "ExecuteTime": {
     "end_time": "2024-03-21T11:08:40.661772Z",
     "start_time": "2024-03-21T11:08:39.294590Z"
    },
    "collapsed": false
   },
   "outputs": [],
   "source": [
    "fields = ['Protocollo', 'DataOraIncidente', 'Localizzazione1', 'STRADA1', 'NaturaIncidente', 'particolaritastrade','Segnaletica','CondizioneAtmosferica','Traffico', 'Visibilita', 'Illuminazione', 'Latitudine', 'Longitudine', 'Ferito', 'Deceduti' ]\n",
    "df = df[fields]"
   ]
  },
  {
   "cell_type": "code",
   "execution_count": 15,
   "id": "9d78461fb6a4bfbc",
   "metadata": {
    "ExecuteTime": {
     "end_time": "2024-03-21T11:08:43.777553Z",
     "start_time": "2024-03-21T11:08:43.757574Z"
    },
    "collapsed": false
   },
   "outputs": [],
   "source": [
    "df.rename(columns = {'DataOraIncidente':'Data','Localizzazione1':'Localizzazione','STRADA1':'Strada', 'particolaritastrade':'ParticolaritaStrade'}, inplace=True)   "
   ]
  },
  {
   "cell_type": "code",
   "execution_count": 16,
   "id": "839f3f3943723232",
   "metadata": {
    "ExecuteTime": {
     "end_time": "2024-03-21T11:08:44.870841Z",
     "start_time": "2024-03-21T11:08:44.841753Z"
    },
    "collapsed": false
   },
   "outputs": [
    {
     "name": "stdout",
     "output_type": "stream",
     "text": [
      "Index(['Protocollo', 'Data', 'Localizzazione', 'Strada', 'NaturaIncidente',\n",
      "       'ParticolaritaStrade', 'Segnaletica', 'CondizioneAtmosferica',\n",
      "       'Traffico', 'Visibilita', 'Illuminazione', 'Latitudine', 'Longitudine',\n",
      "       'Ferito', 'Deceduti'],\n",
      "      dtype='object')\n"
     ]
    }
   ],
   "source": [
    "print(df.columns)"
   ]
  },
  {
   "cell_type": "code",
   "execution_count": 17,
   "id": "73c2ffa4def9bee0",
   "metadata": {
    "ExecuteTime": {
     "end_time": "2024-03-21T11:11:43.067845Z",
     "start_time": "2024-03-21T11:11:39.901800Z"
    },
    "collapsed": false
   },
   "outputs": [],
   "source": [
    "def sostituisci_nan(value):\n",
    "    if type(value) == str:\n",
    "        if value == 'nan':\n",
    "            return 'Assente'\n",
    "        else:\n",
    "            return value\n",
    "    if type(value) == float:\n",
    "        return 'Assente'\n",
    "    if value.isna():\n",
    "        return 'Assente'\n",
    "\n",
    "df['Localizzazione'] = df['Localizzazione'].apply(sostituisci_nan)"
   ]
  },
  {
   "cell_type": "code",
   "execution_count": 18,
   "id": "e150c3419f923741",
   "metadata": {
    "ExecuteTime": {
     "end_time": "2024-03-21T11:14:21.427084Z",
     "start_time": "2024-03-21T11:14:20.526343Z"
    },
    "collapsed": false
   },
   "outputs": [],
   "source": [
    "df['NaturaIncidente'] = df['NaturaIncidente'].apply(sostituisci_nan)"
   ]
  },
  {
   "cell_type": "code",
   "execution_count": 19,
   "id": "ccb81d97f32ae23c",
   "metadata": {
    "ExecuteTime": {
     "end_time": "2024-03-21T11:15:03.851351Z",
     "start_time": "2024-03-21T11:15:01.307826Z"
    },
    "collapsed": false
   },
   "outputs": [],
   "source": [
    "df['ParticolaritaStrade'] = df['ParticolaritaStrade'].apply(sostituisci_nan)"
   ]
  },
  {
   "cell_type": "code",
   "execution_count": 20,
   "id": "9fb09c68d1ae0122",
   "metadata": {
    "ExecuteTime": {
     "end_time": "2024-03-21T11:16:20.489161Z",
     "start_time": "2024-03-21T11:16:17.796842Z"
    },
    "collapsed": false
   },
   "outputs": [],
   "source": [
    "df['Segnaletica'] = df['Segnaletica'].apply(sostituisci_nan)"
   ]
  },
  {
   "cell_type": "code",
   "execution_count": 21,
   "id": "a100723157b02625",
   "metadata": {
    "ExecuteTime": {
     "end_time": "2024-03-21T11:16:59.624780Z",
     "start_time": "2024-03-21T11:16:56.172290Z"
    },
    "collapsed": false
   },
   "outputs": [],
   "source": [
    "df['CondizioneAtmosferica'] = df['CondizioneAtmosferica'].apply(sostituisci_nan)"
   ]
  },
  {
   "cell_type": "code",
   "execution_count": 22,
   "id": "98d3ac4ce9e09178",
   "metadata": {
    "ExecuteTime": {
     "end_time": "2024-03-21T11:17:48.564337Z",
     "start_time": "2024-03-21T11:17:44.768822Z"
    },
    "collapsed": false
   },
   "outputs": [],
   "source": [
    "df['Traffico'] = df['Traffico'].apply(sostituisci_nan)"
   ]
  },
  {
   "cell_type": "code",
   "execution_count": 23,
   "id": "30e9b95913639b4",
   "metadata": {
    "ExecuteTime": {
     "end_time": "2024-03-21T11:18:37.389971Z",
     "start_time": "2024-03-21T11:18:32.829918Z"
    },
    "collapsed": false
   },
   "outputs": [],
   "source": [
    "df['Visibilita'] = df['Visibilita'].apply(sostituisci_nan)"
   ]
  },
  {
   "cell_type": "code",
   "execution_count": 24,
   "id": "9409fa51023d73af",
   "metadata": {
    "ExecuteTime": {
     "end_time": "2024-03-21T11:18:32.938029Z",
     "start_time": "2024-03-21T11:18:28.798034Z"
    },
    "collapsed": false
   },
   "outputs": [],
   "source": [
    "df['Illuminazione'] = df['Illuminazione'].apply(sostituisci_nan)"
   ]
  },
  {
   "cell_type": "code",
   "execution_count": 25,
   "id": "defcf4804baca5d8",
   "metadata": {
    "ExecuteTime": {
     "end_time": "2024-03-21T11:18:53.282060Z",
     "start_time": "2024-03-21T11:18:53.204146Z"
    },
    "collapsed": false
   },
   "outputs": [
    {
     "name": "stdout",
     "output_type": "stream",
     "text": [
      "(1259203, 15)\n"
     ]
    }
   ],
   "source": [
    "print(df.shape)"
   ]
  },
  {
   "cell_type": "code",
   "execution_count": 26,
   "id": "584083093a817c24",
   "metadata": {
    "ExecuteTime": {
     "end_time": "2024-03-21T11:26:46.589146Z",
     "start_time": "2024-03-21T11:26:44.554362Z"
    },
    "collapsed": false
   },
   "outputs": [],
   "source": [
    "df = df.dropna(subset=['Latitudine'])\n",
    "df = df.dropna(subset=['Longitudine'])"
   ]
  },
  {
   "cell_type": "code",
   "execution_count": 27,
   "id": "5f9c6a9dc5f75785",
   "metadata": {
    "ExecuteTime": {
     "end_time": "2024-03-21T11:26:52.557757Z",
     "start_time": "2024-03-21T11:26:52.542704Z"
    },
    "collapsed": false
   },
   "outputs": [
    {
     "name": "stdout",
     "output_type": "stream",
     "text": [
      "0\n"
     ]
    }
   ],
   "source": [
    "conteggio_nulli = df['Latitudine'].isna().sum()\n",
    "print(conteggio_nulli)"
   ]
  },
  {
   "cell_type": "code",
   "execution_count": 28,
   "id": "b0c64edb35d40f02",
   "metadata": {
    "ExecuteTime": {
     "end_time": "2024-03-21T11:26:54.307729Z",
     "start_time": "2024-03-21T11:26:54.225782Z"
    },
    "collapsed": false
   },
   "outputs": [
    {
     "name": "stdout",
     "output_type": "stream",
     "text": [
      "0\n"
     ]
    }
   ],
   "source": [
    "conteggio_nulli = df['Longitudine'].isna().sum()\n",
    "print(conteggio_nulli)"
   ]
  },
  {
   "cell_type": "code",
   "execution_count": 29,
   "id": "3afea1702c1f65c",
   "metadata": {
    "ExecuteTime": {
     "end_time": "2024-03-21T11:35:04.920123Z",
     "start_time": "2024-03-21T11:35:04.891389Z"
    },
    "collapsed": false
   },
   "outputs": [
    {
     "name": "stdout",
     "output_type": "stream",
     "text": [
      "(557481, 15)\n"
     ]
    }
   ],
   "source": [
    "print(df.shape)"
   ]
  },
  {
   "cell_type": "code",
   "execution_count": 30,
   "id": "4e221a5e4f59ade8",
   "metadata": {
    "ExecuteTime": {
     "end_time": "2024-03-21T11:42:26.586182Z",
     "start_time": "2024-03-21T11:42:23.359945Z"
    },
    "collapsed": false
   },
   "outputs": [],
   "source": [
    "split_values = df['Data'].str.split(' ')\n",
    "df['Data'] = split_values.str[0]\n"
   ]
  },
  {
   "cell_type": "code",
   "execution_count": 31,
   "id": "77c0910896d6f66",
   "metadata": {
    "ExecuteTime": {
     "end_time": "2024-03-21T11:43:26.424468Z",
     "start_time": "2024-03-21T11:43:26.300696Z"
    },
    "collapsed": false
   },
   "outputs": [
    {
     "name": "stdout",
     "output_type": "stream",
     "text": [
      "Index(['Protocollo', 'Data', 'Localizzazione', 'Strada', 'NaturaIncidente',\n",
      "       'ParticolaritaStrade', 'Segnaletica', 'CondizioneAtmosferica',\n",
      "       'Traffico', 'Visibilita', 'Illuminazione', 'Latitudine', 'Longitudine',\n",
      "       'Ferito', 'Deceduti'],\n",
      "      dtype='object')\n"
     ]
    }
   ],
   "source": [
    "print(df.columns)"
   ]
  },
  {
   "cell_type": "code",
   "execution_count": 34,
   "id": "e6e4bdf757718013",
   "metadata": {
    "collapsed": false
   },
   "outputs": [],
   "source": [
    "#salvo file csv\n",
    "df.to_csv('dati_per_persona.csv', index=\"True\")"
   ]
  }
 ],
 "metadata": {
  "kernelspec": {
   "display_name": "Python 3",
   "language": "python",
   "name": "python3"
  },
  "language_info": {
   "codemirror_mode": {
    "name": "ipython",
    "version": 3
   },
   "file_extension": ".py",
   "mimetype": "text/x-python",
   "name": "python",
   "nbconvert_exporter": "python",
   "pygments_lexer": "ipython3",
   "version": "3.9.11"
  }
 },
 "nbformat": 4,
 "nbformat_minor": 5
}
