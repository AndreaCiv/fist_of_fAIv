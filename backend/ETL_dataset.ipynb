{
 "cells": [
  {
   "cell_type": "code",
   "execution_count": null,
   "id": "initial_id",
   "metadata": {
    "collapsed": true
   },
   "outputs": [],
   "source": [
    "import pandas as pd\n",
    "import numpy as np"
   ]
  },
  {
   "cell_type": "code",
   "outputs": [],
   "source": [
    "df = pd.read_csv('dati.csv')\n",
    "df.drop(columns='Unnamed: 0',inplace = True)"
   ],
   "metadata": {
    "collapsed": false
   },
   "id": "c18a4f6f95f7bc8c"
  },
  {
   "cell_type": "code",
   "outputs": [],
   "source": [
    "#0.5 \n",
    "\n",
    "# we get rid of some useless columns \n",
    "\n",
    "cols = ['Protocol', 'Group','RESERVED_NUMBER', 'Confirmed','Progressive'] \n",
    "\n",
    "df = df.drop(cols, axis=1) "
   ],
   "metadata": {
    "collapsed": false
   },
   "id": "d23ee757958b7831"
  },
  {
   "cell_type": "code",
   "outputs": [],
   "source": [
    "# delete rows with data not in \"%d/%m/%Y %H:%M\" format\n",
    "df = df[df['DataOraIncidente'].str.match(r'\\d{2}/\\d{2}/\\d{4} \\d{2}:\\d{2}')]\n",
    "\n",
    "# convert the date to epoch unix\n",
    "df['DataOraIncidente'] = pd.to_datetime(df['DataOraIncidente'], format=\"mixed\")\n",
    "\n",
    "# convert the date to epoch unix\n",
    "df['DataOraIncidente'] = df['DataOraIncidente'].astype('int64')"
   ],
   "metadata": {
    "collapsed": false
   },
   "id": "9d2a85496f281d5d"
  },
  {
   "cell_type": "code",
   "outputs": [],
   "source": [
    "print(df.head(10))\n",
    "\n",
    "print(len(df))"
   ],
   "metadata": {
    "collapsed": false
   },
   "id": "99e9ca097f6d1dee"
  }
 ],
 "metadata": {
  "kernelspec": {
   "display_name": "Python 3",
   "language": "python",
   "name": "python3"
  },
  "language_info": {
   "codemirror_mode": {
    "name": "ipython",
    "version": 2
   },
   "file_extension": ".py",
   "mimetype": "text/x-python",
   "name": "python",
   "nbconvert_exporter": "python",
   "pygments_lexer": "ipython2",
   "version": "2.7.6"
  }
 },
 "nbformat": 4,
 "nbformat_minor": 5
}
