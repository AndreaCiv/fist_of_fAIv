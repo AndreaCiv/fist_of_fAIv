{
 "cells": [
  {
   "cell_type": "code",
   "execution_count": 1,
   "id": "initial_id",
   "metadata": {
    "collapsed": true,
    "ExecuteTime": {
     "end_time": "2024-03-21T16:00:27.292621Z",
     "start_time": "2024-03-21T16:00:26.092558Z"
    }
   },
   "outputs": [],
   "source": [
    "import pandas as pd"
   ]
  },
  {
   "cell_type": "code",
   "execution_count": 2,
   "id": "c18a4f6f95f7bc8c",
   "metadata": {
    "collapsed": false,
    "ExecuteTime": {
     "end_time": "2024-03-21T16:00:53.606759Z",
     "start_time": "2024-03-21T16:00:28.937793Z"
    }
   },
   "outputs": [
    {
     "name": "stderr",
     "output_type": "stream",
     "text": [
      "/var/folders/_2/6_j3_33x7zndfv3zc3xhbx080000gn/T/ipykernel_89239/3109760393.py:1: DtypeWarning: Columns (20,21,25,26,27,34) have mixed types. Specify dtype option on import or set low_memory=False.\n",
      "  df = pd.read_csv('dati.csv')\n"
     ]
    }
   ],
   "source": [
    "df = pd.read_csv('dati.csv')\n",
    "df.drop(columns='Unnamed: 0',inplace = True)"
   ]
  },
  {
   "cell_type": "code",
   "execution_count": 3,
   "id": "d23ee757958b7831",
   "metadata": {
    "collapsed": false,
    "ExecuteTime": {
     "end_time": "2024-03-21T16:01:16.043836Z",
     "start_time": "2024-03-21T16:01:13.286862Z"
    }
   },
   "outputs": [],
   "source": [
    "# we get rid of some useless columns \n",
    "cols = ['Gruppo','NUM_RISERVATA', 'Confermato','Progressivo'] \n",
    "df = df.drop(cols, axis=1) "
   ]
  },
  {
   "cell_type": "code",
   "execution_count": 4,
   "id": "353988df17a6898d",
   "metadata": {
    "collapsed": false,
    "ExecuteTime": {
     "end_time": "2024-03-21T16:01:22.637989Z",
     "start_time": "2024-03-21T16:01:18.231044Z"
    }
   },
   "outputs": [
    {
     "name": "stdout",
     "output_type": "stream",
     "text": [
      "[0 1]\n"
     ]
    }
   ],
   "source": [
    "# Mettiamo 1 dove una persona coinvolta è morta dopo l'incidente\n",
    "def replace_with_1(value):\n",
    "    if type(value) == float:\n",
    "        if value == 1.0:\n",
    "            return 1\n",
    "        else:\n",
    "            return 0\n",
    "    if value.startswith('DECEDUTO'):\n",
    "        return 1\n",
    "    else:\n",
    "        return 0\n",
    "df['DecedutoDopo'] = df['DecedutoDopo'].apply(replace_with_1)\n",
    "print(df['DecedutoDopo'].unique())"
   ]
  },
  {
   "cell_type": "code",
   "execution_count": 5,
   "id": "6e1cc710e3ba1165",
   "metadata": {
    "collapsed": false,
    "ExecuteTime": {
     "end_time": "2024-03-21T16:01:25.959824Z",
     "start_time": "2024-03-21T16:01:22.557734Z"
    }
   },
   "outputs": [
    {
     "name": "stdout",
     "output_type": "stream",
     "text": [
      "[0 1]\n"
     ]
    }
   ],
   "source": [
    "# Mettiamo 1 dove una persona coinvolta è morta nell'incidente\n",
    "def replace_with_1_deceduto(value):\n",
    "    if value == -1 or value=='-1':\n",
    "        return 1\n",
    "    else:\n",
    "        return 0\n",
    "df['Deceduto'] = df['Deceduto'].apply(replace_with_1_deceduto)\n",
    "print(df['Deceduto'].unique())"
   ]
  },
  {
   "cell_type": "code",
   "execution_count": 6,
   "id": "ca8aef1a041c8d49",
   "metadata": {
    "collapsed": false,
    "ExecuteTime": {
     "end_time": "2024-03-21T16:01:29.393364Z",
     "start_time": "2024-03-21T16:01:29.277247Z"
    }
   },
   "outputs": [
    {
     "name": "stdout",
     "output_type": "stream",
     "text": [
      "[0 1]\n"
     ]
    }
   ],
   "source": [
    "#Creo una nuova colonna con 1 se la persone è morta, 0 se non lo è\n",
    "df['Deceduti'] = df['Deceduto']+df['DecedutoDopo']\n",
    "print(df['Deceduti'].unique())"
   ]
  },
  {
   "cell_type": "code",
   "execution_count": 7,
   "id": "6639d49b296cfc59",
   "metadata": {
    "collapsed": false,
    "ExecuteTime": {
     "end_time": "2024-03-21T16:01:34.193799Z",
     "start_time": "2024-03-21T16:01:31.961041Z"
    }
   },
   "outputs": [],
   "source": [
    "df = df.drop(columns=['DecedutoDopo','Deceduto'])"
   ]
  },
  {
   "cell_type": "code",
   "execution_count": 8,
   "id": "d2f841644118ffb1",
   "metadata": {
    "collapsed": false,
    "ExecuteTime": {
     "end_time": "2024-03-21T16:01:40.898028Z",
     "start_time": "2024-03-21T16:01:37.896730Z"
    }
   },
   "outputs": [],
   "source": [
    "df = df.drop(df[df['NUM_FERITI'] == 'Ore Diurne'].index)\n",
    "df = df.drop(df[df['NUM_FERITI'] == 'Sufficiente'].index)"
   ]
  },
  {
   "cell_type": "code",
   "execution_count": 9,
   "id": "d1360c010ca7d12e",
   "metadata": {
    "collapsed": false,
    "ExecuteTime": {
     "end_time": "2024-03-21T16:01:43.005985Z",
     "start_time": "2024-03-21T16:01:42.520262Z"
    }
   },
   "outputs": [],
   "source": [
    "df['NUM_FERITI'] = df['NUM_FERITI'].astype(int)"
   ]
  },
  {
   "cell_type": "code",
   "execution_count": 10,
   "id": "a85e2bb58dda04cb",
   "metadata": {
    "collapsed": false,
    "ExecuteTime": {
     "end_time": "2024-03-21T16:01:50.667362Z",
     "start_time": "2024-03-21T16:01:47.057186Z"
    }
   },
   "outputs": [
    {
     "name": "stdout",
     "output_type": "stream",
     "text": [
      "0\n",
      "1\n"
     ]
    }
   ],
   "source": [
    "def definisci_ferito(value):\n",
    "    if type(value) == float:\n",
    "        return 0\n",
    "    if value.startswith('Illeso'):\n",
    "        return 0\n",
    "    if value in ['Rimandato', 'Ricoverato', 'Rifiuta cure immediate', 'Prognosi riservata', 'Deceduto durante prime cure', 'Deceduto durante trasporto', 'Deceduto sul posto']:\n",
    "        return 1\n",
    "    else:\n",
    "        return 0\n",
    "df['Ferito'] = df['Tipolesione'].apply(definisci_ferito)\n",
    "for valore in df['Ferito'].unique():\n",
    "    print(valore)"
   ]
  },
  {
   "cell_type": "code",
   "execution_count": 11,
   "id": "b32d61f516ac9e48",
   "metadata": {
    "collapsed": false,
    "ExecuteTime": {
     "end_time": "2024-03-21T16:01:54.940785Z",
     "start_time": "2024-03-21T16:01:52.780228Z"
    }
   },
   "outputs": [],
   "source": [
    "df = df.drop(columns=['Tipolesione'])"
   ]
  },
  {
   "cell_type": "code",
   "outputs": [
    {
     "name": "stdout",
     "output_type": "stream",
     "text": [
      "Index(['Protocollo', 'DataOraIncidente', 'Localizzazione1', 'STRADA1',\n",
      "       'Localizzazione2', 'STRADA2', 'Strada02', 'Chilometrica',\n",
      "       'DaSpecificare', 'NaturaIncidente', 'particolaritastrade', 'TipoStrada',\n",
      "       'FondoStradale', 'Pavimentazione', 'Segnaletica',\n",
      "       'CondizioneAtmosferica', 'Traffico', 'Visibilita', 'Illuminazione',\n",
      "       'NUM_FERITI', 'NUM_MORTI', 'NUM_ILLESI', 'Longitudine', 'Latitudine',\n",
      "       'TipoVeicolo', 'StatoVeicolo', 'TipoPersona', 'Sesso',\n",
      "       'CinturaCascoUtilizzato', 'Airbag', 'Deceduti', 'Ferito'],\n",
      "      dtype='object')\n"
     ]
    }
   ],
   "source": [
    "print(df.columns)"
   ],
   "metadata": {
    "collapsed": false,
    "ExecuteTime": {
     "end_time": "2024-03-21T16:02:18.606678Z",
     "start_time": "2024-03-21T16:02:18.540892Z"
    }
   },
   "id": "ce3c7389dfebcf7b",
   "execution_count": 12
  },
  {
   "cell_type": "code",
   "outputs": [
    {
     "name": "stdout",
     "output_type": "stream",
     "text": [
      "['Asfaltata' 'Acciotolata' 'In cubetti di porfido'\n",
      " 'Strada pavimentata dissestata' 'Lastricata' 'Con buche'\n",
      " 'In conglomerato cementizio' 'Sterrata' 'Inghiaiata' nan 'Bitumata'\n",
      " 'Fondo naturale']\n"
     ]
    }
   ],
   "source": [
    "print(df['Pavimentazione'].unique())"
   ],
   "metadata": {
    "collapsed": false,
    "ExecuteTime": {
     "end_time": "2024-03-21T16:03:58.287252Z",
     "start_time": "2024-03-21T16:03:58.242826Z"
    }
   },
   "id": "b8465f382908c4b7",
   "execution_count": 16
  },
  {
   "cell_type": "code",
   "execution_count": 17,
   "id": "f92dc7a6c458a1f9",
   "metadata": {
    "collapsed": false,
    "ExecuteTime": {
     "end_time": "2024-03-21T16:15:04.843154Z",
     "start_time": "2024-03-21T16:15:01.474185Z"
    }
   },
   "outputs": [],
   "source": [
    "fields = ['Protocollo', 'DataOraIncidente', 'Localizzazione1', 'STRADA1', 'NaturaIncidente', 'particolaritastrade','Segnaletica','CondizioneAtmosferica','Traffico', 'Visibilita', 'Illuminazione', 'Latitudine', 'Longitudine', 'Ferito', 'Deceduti', 'TipoStrada', 'Pavimentazione' ]\n",
    "df = df[fields]"
   ]
  },
  {
   "cell_type": "code",
   "execution_count": 18,
   "id": "9d78461fb6a4bfbc",
   "metadata": {
    "collapsed": false,
    "ExecuteTime": {
     "end_time": "2024-03-21T16:15:13.008231Z",
     "start_time": "2024-03-21T16:15:12.952941Z"
    }
   },
   "outputs": [],
   "source": [
    "df.rename(columns = {'DataOraIncidente':'Data','Localizzazione1':'Localizzazione','STRADA1':'Strada', 'particolaritastrade':'ParticolaritaStrade'}, inplace=True)   "
   ]
  },
  {
   "cell_type": "code",
   "execution_count": 19,
   "id": "839f3f3943723232",
   "metadata": {
    "collapsed": false,
    "ExecuteTime": {
     "end_time": "2024-03-21T16:15:16.379460Z",
     "start_time": "2024-03-21T16:15:16.283961Z"
    }
   },
   "outputs": [
    {
     "name": "stdout",
     "output_type": "stream",
     "text": [
      "Index(['Protocollo', 'Data', 'Localizzazione', 'Strada', 'NaturaIncidente',\n",
      "       'ParticolaritaStrade', 'Segnaletica', 'CondizioneAtmosferica',\n",
      "       'Traffico', 'Visibilita', 'Illuminazione', 'Latitudine', 'Longitudine',\n",
      "       'Ferito', 'Deceduti', 'TipoStrada', 'Pavimentazione'],\n",
      "      dtype='object')\n"
     ]
    }
   ],
   "source": [
    "print(df.columns)"
   ]
  },
  {
   "cell_type": "code",
   "execution_count": 21,
   "id": "73c2ffa4def9bee0",
   "metadata": {
    "collapsed": false,
    "ExecuteTime": {
     "end_time": "2024-03-21T16:15:57.873772Z",
     "start_time": "2024-03-21T16:15:55.942222Z"
    }
   },
   "outputs": [],
   "source": [
    "def sostituisci_nan(value):\n",
    "    if type(value) == str:\n",
    "        if value == 'nan':\n",
    "            return 'Assente'\n",
    "        else:\n",
    "            return value\n",
    "    if type(value) == float:\n",
    "        return 'Assente'\n",
    "    if value.isna():\n",
    "        return 'Assente'\n",
    "\n",
    "df['Localizzazione'] = df['Localizzazione'].apply(sostituisci_nan)"
   ]
  },
  {
   "cell_type": "code",
   "execution_count": 22,
   "id": "e150c3419f923741",
   "metadata": {
    "collapsed": false,
    "ExecuteTime": {
     "end_time": "2024-03-21T16:16:01.489035Z",
     "start_time": "2024-03-21T16:15:58.784947Z"
    }
   },
   "outputs": [],
   "source": [
    "df['NaturaIncidente'] = df['NaturaIncidente'].apply(sostituisci_nan)"
   ]
  },
  {
   "cell_type": "code",
   "execution_count": 23,
   "id": "ccb81d97f32ae23c",
   "metadata": {
    "collapsed": false,
    "ExecuteTime": {
     "end_time": "2024-03-21T16:16:04.400292Z",
     "start_time": "2024-03-21T16:16:02.242201Z"
    }
   },
   "outputs": [],
   "source": [
    "df['ParticolaritaStrade'] = df['ParticolaritaStrade'].apply(sostituisci_nan)"
   ]
  },
  {
   "cell_type": "code",
   "execution_count": 24,
   "id": "9fb09c68d1ae0122",
   "metadata": {
    "collapsed": false,
    "ExecuteTime": {
     "end_time": "2024-03-21T16:16:07.357410Z",
     "start_time": "2024-03-21T16:16:04.992548Z"
    }
   },
   "outputs": [],
   "source": [
    "df['Segnaletica'] = df['Segnaletica'].apply(sostituisci_nan)"
   ]
  },
  {
   "cell_type": "code",
   "execution_count": 25,
   "id": "a100723157b02625",
   "metadata": {
    "collapsed": false,
    "ExecuteTime": {
     "end_time": "2024-03-21T16:16:10.731346Z",
     "start_time": "2024-03-21T16:16:08.023813Z"
    }
   },
   "outputs": [],
   "source": [
    "df['CondizioneAtmosferica'] = df['CondizioneAtmosferica'].apply(sostituisci_nan)"
   ]
  },
  {
   "cell_type": "code",
   "execution_count": 26,
   "id": "98d3ac4ce9e09178",
   "metadata": {
    "collapsed": false,
    "ExecuteTime": {
     "end_time": "2024-03-21T16:16:18.209948Z",
     "start_time": "2024-03-21T16:16:16.389728Z"
    }
   },
   "outputs": [],
   "source": [
    "df['Traffico'] = df['Traffico'].apply(sostituisci_nan)"
   ]
  },
  {
   "cell_type": "code",
   "execution_count": 27,
   "id": "30e9b95913639b4",
   "metadata": {
    "collapsed": false,
    "ExecuteTime": {
     "end_time": "2024-03-21T16:16:22.959278Z",
     "start_time": "2024-03-21T16:16:20.331532Z"
    }
   },
   "outputs": [],
   "source": [
    "df['Visibilita'] = df['Visibilita'].apply(sostituisci_nan)"
   ]
  },
  {
   "cell_type": "code",
   "execution_count": 28,
   "id": "9409fa51023d73af",
   "metadata": {
    "collapsed": false,
    "ExecuteTime": {
     "end_time": "2024-03-21T16:16:29.987809Z",
     "start_time": "2024-03-21T16:16:28.167294Z"
    }
   },
   "outputs": [],
   "source": [
    "df['Illuminazione'] = df['Illuminazione'].apply(sostituisci_nan)"
   ]
  },
  {
   "cell_type": "code",
   "outputs": [],
   "source": [
    "df['TipoStrada'] = df['TipoStrada'].apply(sostituisci_nan)\n",
    "df['Pavimentazione'] = df['Pavimentazione'].apply(sostituisci_nan)"
   ],
   "metadata": {
    "collapsed": false,
    "ExecuteTime": {
     "end_time": "2024-03-21T16:16:35.892799Z",
     "start_time": "2024-03-21T16:16:31.425908Z"
    }
   },
   "id": "f66cdb83b7007ef2",
   "execution_count": 29
  },
  {
   "cell_type": "code",
   "execution_count": 30,
   "id": "defcf4804baca5d8",
   "metadata": {
    "collapsed": false,
    "ExecuteTime": {
     "end_time": "2024-03-21T16:16:36.492097Z",
     "start_time": "2024-03-21T16:16:36.424829Z"
    }
   },
   "outputs": [
    {
     "name": "stdout",
     "output_type": "stream",
     "text": [
      "(1259203, 17)\n"
     ]
    }
   ],
   "source": [
    "print(df.shape)"
   ]
  },
  {
   "cell_type": "code",
   "execution_count": 31,
   "id": "584083093a817c24",
   "metadata": {
    "collapsed": false,
    "ExecuteTime": {
     "end_time": "2024-03-21T16:16:42.710209Z",
     "start_time": "2024-03-21T16:16:39.714717Z"
    }
   },
   "outputs": [],
   "source": [
    "df = df.dropna(subset=['Latitudine'])\n",
    "df = df.dropna(subset=['Longitudine'])"
   ]
  },
  {
   "cell_type": "code",
   "execution_count": 32,
   "id": "5f9c6a9dc5f75785",
   "metadata": {
    "collapsed": false,
    "ExecuteTime": {
     "end_time": "2024-03-21T16:16:43.300079Z",
     "start_time": "2024-03-21T16:16:43.234053Z"
    }
   },
   "outputs": [
    {
     "name": "stdout",
     "output_type": "stream",
     "text": [
      "0\n"
     ]
    }
   ],
   "source": [
    "conteggio_nulli = df['Latitudine'].isna().sum()\n",
    "print(conteggio_nulli)"
   ]
  },
  {
   "cell_type": "code",
   "execution_count": 33,
   "id": "b0c64edb35d40f02",
   "metadata": {
    "collapsed": false,
    "ExecuteTime": {
     "end_time": "2024-03-21T16:16:44.232235Z",
     "start_time": "2024-03-21T16:16:44.102624Z"
    }
   },
   "outputs": [
    {
     "name": "stdout",
     "output_type": "stream",
     "text": [
      "0\n"
     ]
    }
   ],
   "source": [
    "conteggio_nulli = df['Longitudine'].isna().sum()\n",
    "print(conteggio_nulli)"
   ]
  },
  {
   "cell_type": "code",
   "execution_count": 34,
   "id": "3afea1702c1f65c",
   "metadata": {
    "collapsed": false,
    "ExecuteTime": {
     "end_time": "2024-03-21T16:16:45.534366Z",
     "start_time": "2024-03-21T16:16:45.481527Z"
    }
   },
   "outputs": [
    {
     "name": "stdout",
     "output_type": "stream",
     "text": [
      "(557481, 17)\n"
     ]
    }
   ],
   "source": [
    "print(df.shape)"
   ]
  },
  {
   "cell_type": "code",
   "execution_count": 35,
   "id": "4e221a5e4f59ade8",
   "metadata": {
    "collapsed": false,
    "ExecuteTime": {
     "end_time": "2024-03-21T16:16:52.027262Z",
     "start_time": "2024-03-21T16:16:47.836072Z"
    }
   },
   "outputs": [],
   "source": [
    "split_values = df['Data'].str.split(' ')\n",
    "df['Data'] = split_values.str[0]\n"
   ]
  },
  {
   "cell_type": "code",
   "execution_count": 36,
   "id": "77c0910896d6f66",
   "metadata": {
    "collapsed": false,
    "ExecuteTime": {
     "end_time": "2024-03-21T16:16:52.749674Z",
     "start_time": "2024-03-21T16:16:52.669139Z"
    }
   },
   "outputs": [
    {
     "name": "stdout",
     "output_type": "stream",
     "text": [
      "Index(['Protocollo', 'Data', 'Localizzazione', 'Strada', 'NaturaIncidente',\n",
      "       'ParticolaritaStrade', 'Segnaletica', 'CondizioneAtmosferica',\n",
      "       'Traffico', 'Visibilita', 'Illuminazione', 'Latitudine', 'Longitudine',\n",
      "       'Ferito', 'Deceduti', 'TipoStrada', 'Pavimentazione'],\n",
      "      dtype='object')\n"
     ]
    }
   ],
   "source": [
    "print(df.columns)"
   ]
  },
  {
   "cell_type": "code",
   "execution_count": 37,
   "id": "e6e4bdf757718013",
   "metadata": {
    "collapsed": false,
    "ExecuteTime": {
     "end_time": "2024-03-21T16:17:11.411901Z",
     "start_time": "2024-03-21T16:16:54.871127Z"
    }
   },
   "outputs": [],
   "source": [
    "#salvo file csv\n",
    "df.to_csv('dati_per_persona.csv', index=\"True\")"
   ]
  },
  {
   "cell_type": "code",
   "outputs": [],
   "source": [],
   "metadata": {
    "collapsed": false
   },
   "id": "e0919ed2a5c67ae"
  }
 ],
 "metadata": {
  "kernelspec": {
   "display_name": "Python 3",
   "language": "python",
   "name": "python3"
  },
  "language_info": {
   "codemirror_mode": {
    "name": "ipython",
    "version": 3
   },
   "file_extension": ".py",
   "mimetype": "text/x-python",
   "name": "python",
   "nbconvert_exporter": "python",
   "pygments_lexer": "ipython3",
   "version": "3.9.11"
  }
 },
 "nbformat": 4,
 "nbformat_minor": 5
}
