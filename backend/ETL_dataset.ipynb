{
 "cells": [
  {
   "cell_type": "code",
   "execution_count": 1,
   "id": "initial_id",
   "metadata": {
    "collapsed": true,
    "ExecuteTime": {
     "end_time": "2024-03-21T11:06:47.679525Z",
     "start_time": "2024-03-21T11:06:46.382505Z"
    }
   },
   "outputs": [],
   "source": [
    "import pandas as pd\n",
    "import numpy as np"
   ]
  },
  {
   "cell_type": "code",
   "outputs": [
    {
     "name": "stderr",
     "output_type": "stream",
     "text": [
      "/var/folders/_2/6_j3_33x7zndfv3zc3xhbx080000gn/T/ipykernel_10357/3109760393.py:1: DtypeWarning: Columns (20,21,25,26,27,34) have mixed types. Specify dtype option on import or set low_memory=False.\n",
      "  df = pd.read_csv('dati.csv')\n"
     ]
    }
   ],
   "source": [
    "df = pd.read_csv('dati.csv')\n",
    "df.drop(columns='Unnamed: 0',inplace = True)"
   ],
   "metadata": {
    "collapsed": false,
    "ExecuteTime": {
     "end_time": "2024-03-21T11:07:41.520825Z",
     "start_time": "2024-03-21T11:06:53.621855Z"
    }
   },
   "id": "c18a4f6f95f7bc8c",
   "execution_count": 2
  },
  {
   "cell_type": "code",
   "outputs": [],
   "source": [
    "# we get rid of some useless columns \n",
    "cols = ['Gruppo','NUM_RISERVATA', 'Confermato','Progressivo'] \n",
    "df = df.drop(cols, axis=1) "
   ],
   "metadata": {
    "collapsed": false,
    "ExecuteTime": {
     "end_time": "2024-03-21T11:01:42.668269Z",
     "start_time": "2024-03-21T11:01:38.843890Z"
    }
   },
   "id": "d23ee757958b7831",
   "execution_count": 3
  },
  {
   "cell_type": "code",
   "outputs": [
    {
     "name": "stdout",
     "output_type": "stream",
     "text": [
      "[0 1]\n"
     ]
    }
   ],
   "source": [
    "# Mettiamo 1 dove una persona coinvolta è morta dopo l'incidente\n",
    "def replace_with_1(value):\n",
    "    if type(value) == float:\n",
    "        if value == 1.0:\n",
    "            return 1\n",
    "        else:\n",
    "            return 0\n",
    "    if value.startswith('DECEDUTO'):\n",
    "        return 1\n",
    "    else:\n",
    "        return 0\n",
    "df['DecedutoDopo'] = df['DecedutoDopo'].apply(replace_with_1)\n",
    "print(df['DecedutoDopo'].unique())"
   ],
   "metadata": {
    "collapsed": false,
    "ExecuteTime": {
     "end_time": "2024-03-21T11:07:46.548732Z",
     "start_time": "2024-03-21T11:07:42.618221Z"
    }
   },
   "id": "353988df17a6898d",
   "execution_count": 3
  },
  {
   "cell_type": "code",
   "outputs": [
    {
     "name": "stdout",
     "output_type": "stream",
     "text": [
      "[0 1]\n"
     ]
    }
   ],
   "source": [
    "# Mettiamo 1 dove una persona coinvolta è morta nell'incidente\n",
    "def replace_with_1_deceduto(value):\n",
    "    if value == -1 or value=='-1':\n",
    "        return 1\n",
    "    else:\n",
    "        return 0\n",
    "df['Deceduto'] = df['Deceduto'].apply(replace_with_1_deceduto)\n",
    "print(df['Deceduto'].unique())"
   ],
   "metadata": {
    "collapsed": false,
    "ExecuteTime": {
     "end_time": "2024-03-21T11:07:53.374361Z",
     "start_time": "2024-03-21T11:07:49.183342Z"
    }
   },
   "id": "6e1cc710e3ba1165",
   "execution_count": 4
  },
  {
   "cell_type": "code",
   "outputs": [
    {
     "name": "stdout",
     "output_type": "stream",
     "text": [
      "[0 1]\n"
     ]
    }
   ],
   "source": [
    "#Creo una nuova colonna con 1 se la persone è morta, 0 se non lo è\n",
    "df['Deceduti'] = df['Deceduto']+df['DecedutoDopo']\n",
    "print(df['Deceduti'].unique())"
   ],
   "metadata": {
    "collapsed": false,
    "ExecuteTime": {
     "end_time": "2024-03-21T11:08:16.567084Z",
     "start_time": "2024-03-21T11:08:16.479166Z"
    }
   },
   "id": "ca8aef1a041c8d49",
   "execution_count": 5
  },
  {
   "cell_type": "code",
   "outputs": [],
   "source": [
    "df = df.drop(columns=['DecedutoDopo','Deceduto'])"
   ],
   "metadata": {
    "collapsed": false,
    "ExecuteTime": {
     "end_time": "2024-03-21T11:08:23.193301Z",
     "start_time": "2024-03-21T11:08:20.194820Z"
    }
   },
   "id": "6639d49b296cfc59",
   "execution_count": 6
  },
  {
   "cell_type": "code",
   "outputs": [],
   "source": [
    "df = df.drop(df[df['NUM_FERITI'] == 'Ore Diurne'].index)\n",
    "df = df.drop(df[df['NUM_FERITI'] == 'Sufficiente'].index)"
   ],
   "metadata": {
    "collapsed": false,
    "ExecuteTime": {
     "end_time": "2024-03-21T11:08:30.476987Z",
     "start_time": "2024-03-21T11:08:26.222564Z"
    }
   },
   "id": "d2f841644118ffb1",
   "execution_count": 7
  },
  {
   "cell_type": "code",
   "outputs": [],
   "source": [
    "df['NUM_FERITI'] = df['NUM_FERITI'].astype(int)"
   ],
   "metadata": {
    "collapsed": false,
    "ExecuteTime": {
     "end_time": "2024-03-21T11:08:32.552670Z",
     "start_time": "2024-03-21T11:08:32.145195Z"
    }
   },
   "id": "d1360c010ca7d12e",
   "execution_count": 8
  },
  {
   "cell_type": "code",
   "outputs": [
    {
     "name": "stdout",
     "output_type": "stream",
     "text": [
      "0\n",
      "1\n"
     ]
    }
   ],
   "source": [
    "def definisci_ferito(value):\n",
    "    if type(value) == float:\n",
    "        return 0\n",
    "    if value.startswith('Illeso'):\n",
    "        return 0\n",
    "    if value in ['Rimandato', 'Ricoverato', 'Rifiuta cure immediate', 'Prognosi riservata', 'Deceduto durante prime cure', 'Deceduto durante trasporto', 'Deceduto sul posto']:\n",
    "        return 1\n",
    "    else:\n",
    "        return 0\n",
    "df['Ferito'] = df['Tipolesione'].apply(definisci_ferito)\n",
    "for valore in df['Ferito'].unique():\n",
    "    print(valore)"
   ],
   "metadata": {
    "collapsed": false,
    "ExecuteTime": {
     "end_time": "2024-03-21T11:08:38.151275Z",
     "start_time": "2024-03-21T11:08:33.840351Z"
    }
   },
   "id": "a85e2bb58dda04cb",
   "execution_count": 9
  },
  {
   "cell_type": "code",
   "outputs": [],
   "source": [
    "df = df.drop(columns=['Tipolesione'])"
   ],
   "metadata": {
    "collapsed": false,
    "ExecuteTime": {
     "end_time": "2024-03-21T11:02:46.573727Z",
     "start_time": "2024-03-21T11:02:42.996294Z"
    }
   },
   "id": "b32d61f516ac9e48",
   "execution_count": 11
  },
  {
   "cell_type": "code",
   "outputs": [],
   "source": [
    "fields = ['Protocollo', 'DataOraIncidente', 'Localizzazione1', 'STRADA1', 'NaturaIncidente', 'particolaritastrade','Segnaletica','CondizioneAtmosferica','Traffico', 'Visibilita', 'Illuminazione', 'Latitudine', 'Longitudine', 'Ferito', 'Deceduti' ]\n",
    "df = df[fields]"
   ],
   "metadata": {
    "collapsed": false,
    "ExecuteTime": {
     "end_time": "2024-03-21T11:08:40.661772Z",
     "start_time": "2024-03-21T11:08:39.294590Z"
    }
   },
   "id": "f92dc7a6c458a1f9",
   "execution_count": 10
  },
  {
   "cell_type": "code",
   "outputs": [],
   "source": [
    "df.rename(columns = {'DataOraIncidente':'Data','Localizzazione1':'Localizzazione','STRADA1':'Strada', 'particolaritastrade':'ParticolaritaStrade'}, inplace=True)   "
   ],
   "metadata": {
    "collapsed": false,
    "ExecuteTime": {
     "end_time": "2024-03-21T11:08:43.777553Z",
     "start_time": "2024-03-21T11:08:43.757574Z"
    }
   },
   "id": "9d78461fb6a4bfbc",
   "execution_count": 11
  },
  {
   "cell_type": "code",
   "outputs": [
    {
     "name": "stdout",
     "output_type": "stream",
     "text": [
      "Index(['Protocollo', 'Data', 'Localizzazione', 'Strada', 'NaturaIncidente',\n",
      "       'ParticolaritaStrade', 'Segnaletica', 'CondizioneAtmosferica',\n",
      "       'Traffico', 'Visibilita', 'Illuminazione', 'Latitudine', 'Longitudine',\n",
      "       'Ferito', 'Deceduti'],\n",
      "      dtype='object')\n"
     ]
    }
   ],
   "source": [
    "print(df.columns)"
   ],
   "metadata": {
    "collapsed": false,
    "ExecuteTime": {
     "end_time": "2024-03-21T11:08:44.870841Z",
     "start_time": "2024-03-21T11:08:44.841753Z"
    }
   },
   "id": "839f3f3943723232",
   "execution_count": 12
  },
  {
   "cell_type": "code",
   "outputs": [],
   "source": [
    "def sostituisci_nan(value):\n",
    "    if type(value) == str:\n",
    "        if value == 'nan':\n",
    "            return 'Assente'\n",
    "        else:\n",
    "            return value\n",
    "    if type(value) == float:\n",
    "        return 'Assente'\n",
    "    if value.isna():\n",
    "        return 'Assente'\n",
    "\n",
    "df['Localizzazione'] = df['Localizzazione'].apply(sostituisci_nan)"
   ],
   "metadata": {
    "collapsed": false,
    "ExecuteTime": {
     "end_time": "2024-03-21T11:11:43.067845Z",
     "start_time": "2024-03-21T11:11:39.901800Z"
    }
   },
   "id": "73c2ffa4def9bee0",
   "execution_count": 22
  },
  {
   "cell_type": "code",
   "outputs": [],
   "source": [
    "df['NaturaIncidente'] = df['NaturaIncidente'].apply(sostituisci_nan)"
   ],
   "metadata": {
    "collapsed": false,
    "ExecuteTime": {
     "end_time": "2024-03-21T11:14:21.427084Z",
     "start_time": "2024-03-21T11:14:20.526343Z"
    }
   },
   "id": "e150c3419f923741",
   "execution_count": 27
  },
  {
   "cell_type": "code",
   "outputs": [],
   "source": [
    "df['ParticolaritaStrade'] = df['ParticolaritaStrade'].apply(sostituisci_nan)"
   ],
   "metadata": {
    "collapsed": false,
    "ExecuteTime": {
     "end_time": "2024-03-21T11:15:03.851351Z",
     "start_time": "2024-03-21T11:15:01.307826Z"
    }
   },
   "id": "ccb81d97f32ae23c",
   "execution_count": 30
  },
  {
   "cell_type": "code",
   "outputs": [],
   "source": [
    "df['Segnaletica'] = df['Segnaletica'].apply(sostituisci_nan)"
   ],
   "metadata": {
    "collapsed": false,
    "ExecuteTime": {
     "end_time": "2024-03-21T11:16:20.489161Z",
     "start_time": "2024-03-21T11:16:17.796842Z"
    }
   },
   "id": "9fb09c68d1ae0122",
   "execution_count": 32
  },
  {
   "cell_type": "code",
   "outputs": [],
   "source": [
    "df['CondizioneAtmosferica'] = df['CondizioneAtmosferica'].apply(sostituisci_nan)"
   ],
   "metadata": {
    "collapsed": false,
    "ExecuteTime": {
     "end_time": "2024-03-21T11:16:59.624780Z",
     "start_time": "2024-03-21T11:16:56.172290Z"
    }
   },
   "id": "a100723157b02625",
   "execution_count": 35
  },
  {
   "cell_type": "code",
   "outputs": [],
   "source": [
    "df['Traffico'] = df['Traffico'].apply(sostituisci_nan)"
   ],
   "metadata": {
    "collapsed": false,
    "ExecuteTime": {
     "end_time": "2024-03-21T11:17:48.564337Z",
     "start_time": "2024-03-21T11:17:44.768822Z"
    }
   },
   "id": "98d3ac4ce9e09178",
   "execution_count": 37
  },
  {
   "cell_type": "code",
   "outputs": [],
   "source": [
    "df['Visibilita'] = df['Visibilita'].apply(sostituisci_nan)"
   ],
   "metadata": {
    "collapsed": false,
    "ExecuteTime": {
     "end_time": "2024-03-21T11:18:37.389971Z",
     "start_time": "2024-03-21T11:18:32.829918Z"
    }
   },
   "id": "30e9b95913639b4",
   "execution_count": 39
  },
  {
   "cell_type": "code",
   "outputs": [],
   "source": [
    "df['Illuminazione'] = df['Illuminazione'].apply(sostituisci_nan)"
   ],
   "metadata": {
    "collapsed": false,
    "ExecuteTime": {
     "end_time": "2024-03-21T11:18:32.938029Z",
     "start_time": "2024-03-21T11:18:28.798034Z"
    }
   },
   "id": "9409fa51023d73af",
   "execution_count": 38
  },
  {
   "cell_type": "code",
   "outputs": [
    {
     "name": "stdout",
     "output_type": "stream",
     "text": [
      "(1259203, 15)\n"
     ]
    }
   ],
   "source": [
    "print(df.shape)"
   ],
   "metadata": {
    "collapsed": false,
    "ExecuteTime": {
     "end_time": "2024-03-21T11:18:53.282060Z",
     "start_time": "2024-03-21T11:18:53.204146Z"
    }
   },
   "id": "defcf4804baca5d8",
   "execution_count": 40
  },
  {
   "cell_type": "code",
   "outputs": [],
   "source": [
    "df = df.dropna(subset=['Latitudine'])\n",
    "df = df.dropna(subset=['Longitudine'])"
   ],
   "metadata": {
    "collapsed": false,
    "ExecuteTime": {
     "end_time": "2024-03-21T11:26:46.589146Z",
     "start_time": "2024-03-21T11:26:44.554362Z"
    }
   },
   "id": "584083093a817c24",
   "execution_count": 51
  },
  {
   "cell_type": "code",
   "outputs": [
    {
     "name": "stdout",
     "output_type": "stream",
     "text": [
      "0\n"
     ]
    }
   ],
   "source": [
    "conteggio_nulli = df['Latitudine'].isna().sum()\n",
    "print(conteggio_nulli)"
   ],
   "metadata": {
    "collapsed": false,
    "ExecuteTime": {
     "end_time": "2024-03-21T11:26:52.557757Z",
     "start_time": "2024-03-21T11:26:52.542704Z"
    }
   },
   "id": "5f9c6a9dc5f75785",
   "execution_count": 52
  },
  {
   "cell_type": "code",
   "outputs": [
    {
     "name": "stdout",
     "output_type": "stream",
     "text": [
      "0\n"
     ]
    }
   ],
   "source": [
    "conteggio_nulli = df['Longitudine'].isna().sum()\n",
    "print(conteggio_nulli)"
   ],
   "metadata": {
    "collapsed": false,
    "ExecuteTime": {
     "end_time": "2024-03-21T11:26:54.307729Z",
     "start_time": "2024-03-21T11:26:54.225782Z"
    }
   },
   "id": "b0c64edb35d40f02",
   "execution_count": 53
  },
  {
   "cell_type": "code",
   "outputs": [
    {
     "name": "stdout",
     "output_type": "stream",
     "text": [
      "(557481, 15)\n"
     ]
    }
   ],
   "source": [
    "print(df.shape)"
   ],
   "metadata": {
    "collapsed": false,
    "ExecuteTime": {
     "end_time": "2024-03-21T11:35:04.920123Z",
     "start_time": "2024-03-21T11:35:04.891389Z"
    }
   },
   "id": "3afea1702c1f65c",
   "execution_count": 54
  },
  {
   "cell_type": "code",
   "outputs": [],
   "source": [
    "split_values = df['Data'].str.split(' ')\n",
    "df['Data'] = split_values.str[0]\n"
   ],
   "metadata": {
    "collapsed": false,
    "ExecuteTime": {
     "end_time": "2024-03-21T11:42:26.586182Z",
     "start_time": "2024-03-21T11:42:23.359945Z"
    }
   },
   "id": "4e221a5e4f59ade8",
   "execution_count": 61
  },
  {
   "cell_type": "code",
   "outputs": [
    {
     "name": "stdout",
     "output_type": "stream",
     "text": [
      "Index(['Protocollo', 'Data', 'Localizzazione', 'Strada', 'NaturaIncidente',\n",
      "       'ParticolaritaStrade', 'Segnaletica', 'CondizioneAtmosferica',\n",
      "       'Traffico', 'Visibilita', 'Illuminazione', 'Latitudine', 'Longitudine',\n",
      "       'Ferito', 'Deceduti'],\n",
      "      dtype='object')\n"
     ]
    }
   ],
   "source": [
    "print(df.columns)"
   ],
   "metadata": {
    "collapsed": false,
    "ExecuteTime": {
     "end_time": "2024-03-21T11:43:26.424468Z",
     "start_time": "2024-03-21T11:43:26.300696Z"
    }
   },
   "id": "77c0910896d6f66",
   "execution_count": 68
  },
  {
   "cell_type": "code",
   "outputs": [],
   "source": [],
   "metadata": {
    "collapsed": false
   },
   "id": "e6e4bdf757718013"
  }
 ],
 "metadata": {
  "kernelspec": {
   "display_name": "Python 3",
   "language": "python",
   "name": "python3"
  },
  "language_info": {
   "codemirror_mode": {
    "name": "ipython",
    "version": 2
   },
   "file_extension": ".py",
   "mimetype": "text/x-python",
   "name": "python",
   "nbconvert_exporter": "python",
   "pygments_lexer": "ipython2",
   "version": "2.7.6"
  }
 },
 "nbformat": 4,
 "nbformat_minor": 5
}
