{
 "cells": [
  {
   "cell_type": "code",
   "execution_count": 86,
   "metadata": {},
   "outputs": [],
   "source": [
    "import pandas as pd"
   ]
  },
  {
   "cell_type": "code",
   "execution_count": 87,
   "metadata": {},
   "outputs": [],
   "source": [
    "df = pd.read_json('dataset_incidenti.json')\n",
    "#elimina colonne inutili, aggrega numero di incidenti, feriti, morti, segnaletica, particolarita strada (ordina per data e prendi il primo (più recente))\n"
   ]
  },
  {
   "cell_type": "code",
   "execution_count": 88,
   "metadata": {},
   "outputs": [],
   "source": [
    "def to_float(value):\n",
    "    if type(value)==float:\n",
    "        return value\n",
    "    else:\n",
    "        return float(value.replace(',', '.'))\n",
    "df['Latitudine'] = df['Latitudine'].apply(to_float)\n",
    "df['Longitudine'] = df['Longitudine'].apply(to_float)"
   ]
  },
  {
   "cell_type": "code",
   "execution_count": 89,
   "metadata": {},
   "outputs": [
    {
     "name": "stdout",
     "output_type": "stream",
     "text": [
      "Latitudine\n",
      "<class 'float'>    223984\n",
      "Name: count, dtype: int64\n",
      "Longitudine\n",
      "<class 'float'>    223984\n",
      "Name: count, dtype: int64\n"
     ]
    }
   ],
   "source": [
    "print(df['Latitudine'].apply(type).value_counts())\n",
    "print(df['Longitudine'].apply(type).value_counts())\n"
   ]
  },
  {
   "cell_type": "code",
   "execution_count": 90,
   "metadata": {},
   "outputs": [
    {
     "name": "stdout",
     "output_type": "stream",
     "text": [
      "              Data Localizzazione                 Strada  \\\n",
      "0       13/07/2007  Strada Urbana        VIALE CASTRENSE   \n",
      "1       05/12/2008  Strada Urbana   PIAZZA MASSA CARRARA   \n",
      "2       31/08/2009  Strada Urbana             VIA CAVOUR   \n",
      "3       23/01/2010  Strada Urbana           VIA MERULANA   \n",
      "4       22/03/2010  Strada Urbana        VIA DEGLI ACERI   \n",
      "...            ...            ...                    ...   \n",
      "223979  27/12/2021  Strada Urbana        PONTE GARIBALDI   \n",
      "223980  02/11/2021  Strada Urbana              VIA TEANO   \n",
      "223981  29/12/2021  Strada Urbana  VIALE DELLA PRIMAVERA   \n",
      "223982  22/09/2021  Strada Urbana  VIA BIORDO MICHELOTTI   \n",
      "223983  21/12/2021  Strada Urbana      VIA DEL TORRACCIO   \n",
      "\n",
      "                                          NaturaIncidente  \\\n",
      "0                  Scontro laterale fra veicoli in marcia   \n",
      "1                                  Investimento di pedone   \n",
      "2       Scontro frontale/laterale SX fra veicoli in ma...   \n",
      "3                  Infortunio per sola frenata improvvisa   \n",
      "4       Scontro frontale/laterale DX fra veicoli in ma...   \n",
      "...                                                   ...   \n",
      "223979             Scontro laterale fra veicoli in marcia   \n",
      "223980                                       Tamponamento   \n",
      "223981      Veicolo in marcia contro ostacolo accidentale   \n",
      "223982          Veicolo in marcia contro veicolo in sosta   \n",
      "223983                  Infortunio per caduta del veicolo   \n",
      "\n",
      "               ParticolaritaStrade               Segnaletica  \\\n",
      "0                       Rettilineo                 Verticale   \n",
      "1                        Rotatoria  Verticale ed orizzontale   \n",
      "2                       Rettilineo  Verticale ed orizzontale   \n",
      "3                       Rettilineo               Orizzontale   \n",
      "4                         Incrocio  Verticale ed orizzontale   \n",
      "...                            ...                       ...   \n",
      "223979  Intersezione semaforizzata  Verticale ed orizzontale   \n",
      "223980                  Rettilineo                   Assente   \n",
      "223981                  Rettilineo  Verticale ed orizzontale   \n",
      "223982                  Rettilineo                   Assente   \n",
      "223983                  Rettilineo               Orizzontale   \n",
      "\n",
      "       CondizioneAtmosferica Traffico     Visibilita Illuminazione  \\\n",
      "0                     Sereno  Intenso          Buona    Ore Diurne   \n",
      "1            Pioggia in atto  Normale          Buona   Sufficiente   \n",
      "2                     Sereno  Normale          Buona    Ore Diurne   \n",
      "3                     Sereno  Intenso          Buona   Sufficiente   \n",
      "4                     Sereno   Scarso  Insufficiente    Ore Diurne   \n",
      "...                      ...      ...            ...           ...   \n",
      "223979       Pioggia in atto  Normale    Sufficiente       Assente   \n",
      "223980                Sereno   Scarso          Buona       Assente   \n",
      "223981                Sereno   Scarso    Sufficiente       Assente   \n",
      "223982                Sereno   Scarso          Buona       Assente   \n",
      "223983                Sereno  Normale          Buona       Assente   \n",
      "\n",
      "        Latitudine  Longitudine  Feriti  Deceduti  Numero_Incidenti  \n",
      "0         41.88918     12.51931       0         0               175  \n",
      "1         41.91817     12.52550       1         0                13  \n",
      "2         41.89464     12.49314       0         0               256  \n",
      "3         41.89603     12.49967       1         0               468  \n",
      "4         41.87821     12.56750       0         0                40  \n",
      "...            ...          ...     ...       ...               ...  \n",
      "223979    41.89180     12.47470       0         0                82  \n",
      "223980    41.88960     12.54790       0         0                95  \n",
      "223981    41.88670     12.56130       0         0               340  \n",
      "223982    41.89350     12.53810       0         0                 1  \n",
      "223983    41.85630     12.64820       1         0                60  \n",
      "\n",
      "[223984 rows x 15 columns]\n"
     ]
    }
   ],
   "source": [
    "# Conta il numero di volte che una stessa strada si ripete nel DataFrame\n",
    "conteggio_strade = df['Strada'].value_counts().reset_index()\n",
    "\n",
    "# Rinomina le colonne risultanti\n",
    "conteggio_strade.columns = ['Strada', 'Numero_Incidenti']\n",
    "\n",
    "# Unisci il conteggio delle strade al DataFrame originale\n",
    "df = pd.merge(df, conteggio_strade, on='Strada', how='left')\n",
    "\n",
    "print(df)"
   ]
  },
  {
   "cell_type": "code",
   "execution_count": 92,
   "metadata": {},
   "outputs": [
    {
     "name": "stdout",
     "output_type": "stream",
     "text": [
      "                                            Strada        Localizzazione  \\\n",
      "0                              Sottovia Cappellini         Strada Urbana   \n",
      "1          AEROPORTO CIAMPINO - LARGO C. D'ASCANIO  Comunale extraurbana   \n",
      "2     AEROPORTO CIAMPINO - LARGO LEONARDO DA VINCI          Altra strada   \n",
      "3            AEROPORTO CIAMPINO - VIA DE BERNARDIS          Altra strada   \n",
      "4        AEROPORTO CIAMPINO - VIA FRANCESCO AGELLO          Altra strada   \n",
      "...                                            ...                   ...   \n",
      "9165                       Via della Stella Polare         Strada Urbana   \n",
      "9166                                     tang. Est         Strada Urbana   \n",
      "9167                tangenziale / est dir. salaria         Strada Urbana   \n",
      "9168                           via del Colle Oppio         Strada Urbana   \n",
      "9169                              via g. zirardini         Strada Urbana   \n",
      "\n",
      "     ParticolaritaStrade               Segnaletica  Min_Latitudine  \\\n",
      "0               Incrocio  Verticale ed orizzontale        41.89649   \n",
      "1             Rettilineo  Verticale ed orizzontale        41.79903   \n",
      "2             Rettilineo  Verticale ed orizzontale        41.79883   \n",
      "3               Incrocio  Verticale ed orizzontale        41.79824   \n",
      "4             Rettilineo                 Verticale        41.79824   \n",
      "...                  ...                       ...             ...   \n",
      "9165            Incrocio  Verticale ed orizzontale        41.72622   \n",
      "9166          Rettilineo  Verticale ed orizzontale        41.87239   \n",
      "9167          Rettilineo               Orizzontale        41.89030   \n",
      "9168          Rettilineo  Verticale ed orizzontale        41.89239   \n",
      "9169          Rettilineo  Verticale ed orizzontale        41.96170   \n",
      "\n",
      "      Max_Latitudine  Min_Longitudine  Max_Longitudine  Totale_Feriti  \\\n",
      "0           41.90278         12.49637         12.50705             10   \n",
      "1           41.79903         12.59328         12.59328              1   \n",
      "2           41.79990         12.24620         12.59030              0   \n",
      "3           41.79824         12.59004         12.59004              0   \n",
      "4           41.79934         12.59001         12.59099              0   \n",
      "...              ...              ...              ...            ...   \n",
      "9165        41.80511         12.29190         12.72839             23   \n",
      "9166        41.93785         12.48018         12.53395             21   \n",
      "9167        41.93785         12.49637         12.70350             78   \n",
      "9168        41.89286         12.49610         12.49823              0   \n",
      "9169        41.96236         12.51850         12.52291              1   \n",
      "\n",
      "      Totale_Deceduti  Numero_Incidenti  \n",
      "0                   0                13  \n",
      "1                   0                 1  \n",
      "2                   0                 3  \n",
      "3                   0                 1  \n",
      "4                   0                 4  \n",
      "...               ...               ...  \n",
      "9165                0                29  \n",
      "9166                0                28  \n",
      "9167                1               112  \n",
      "9168                0                 3  \n",
      "9169                0                 2  \n",
      "\n",
      "[9170 rows x 11 columns]\n"
     ]
    }
   ],
   "source": [
    "df_compattato = df.groupby(['Strada']).agg({\n",
    "    'Localizzazione': 'first',\n",
    "    'ParticolaritaStrade': 'first',\n",
    "    'Segnaletica': 'first',\n",
    "    'Latitudine': ['min', 'max'],\n",
    "    'Longitudine': ['min', 'max'],\n",
    "    'Feriti': 'sum',\n",
    "    'Deceduti': 'sum',\n",
    "    'Numero_Incidenti': 'first'\n",
    "}).reset_index()\n",
    "\n",
    "df_compattato.columns = ['Strada', 'Localizzazione', 'ParticolaritaStrade', 'Segnaletica',\n",
    "                  'Min_Latitudine', 'Max_Latitudine', 'Min_Longitudine', 'Max_Longitudine',\n",
    "                  'Totale_Feriti', 'Totale_Deceduti', 'Numero_Incidenti']\n",
    "\n",
    "print(df_compattato)\n"
   ]
  },
  {
   "cell_type": "code",
   "execution_count": 93,
   "metadata": {},
   "outputs": [],
   "source": [
    "df_compattato = df_compattato.rename(columns={\"Numero_Incidenti\": \"NumeroIncidenti\"})"
   ]
  },
  {
   "cell_type": "code",
   "execution_count": 94,
   "metadata": {},
   "outputs": [
    {
     "name": "stdout",
     "output_type": "stream",
     "text": [
      "Index(['Strada', 'Localizzazione', 'ParticolaritaStrade', 'Segnaletica',\n",
      "       'Min_Latitudine', 'Max_Latitudine', 'Min_Longitudine',\n",
      "       'Max_Longitudine', 'Totale_Feriti', 'Totale_Deceduti',\n",
      "       'NumeroIncidenti'],\n",
      "      dtype='object')\n"
     ]
    }
   ],
   "source": [
    "print(df_compattato.columns)"
   ]
  },
  {
   "cell_type": "code",
   "execution_count": 96,
   "metadata": {},
   "outputs": [],
   "source": [
    "df_compattato.to_json(\"dataset_strade.json\")"
   ]
  }
 ],
 "metadata": {
  "kernelspec": {
   "display_name": "Python 3",
   "language": "python",
   "name": "python3"
  },
  "language_info": {
   "codemirror_mode": {
    "name": "ipython",
    "version": 3
   },
   "file_extension": ".py",
   "mimetype": "text/x-python",
   "name": "python",
   "nbconvert_exporter": "python",
   "pygments_lexer": "ipython3",
   "version": "3.9.11"
  }
 },
 "nbformat": 4,
 "nbformat_minor": 2
}
