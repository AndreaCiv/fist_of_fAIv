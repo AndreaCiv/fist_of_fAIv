{
 "cells": [
  {
   "cell_type": "code",
   "execution_count": 1,
   "id": "initial_id",
   "metadata": {
    "collapsed": true,
    "ExecuteTime": {
     "end_time": "2024-03-21T17:58:31.240066Z",
     "start_time": "2024-03-21T17:58:27.513290Z"
    }
   },
   "outputs": [],
   "source": [
    "import sklearn\n",
    "import pandas as pd"
   ]
  },
  {
   "cell_type": "code",
   "outputs": [],
   "source": [
    "df = pd.read_json('dataset_strade.json')"
   ],
   "metadata": {
    "collapsed": false,
    "ExecuteTime": {
     "end_time": "2024-03-21T17:58:32.918111Z",
     "start_time": "2024-03-21T17:58:32.637003Z"
    }
   },
   "id": "7a6a83a734e692b1",
   "execution_count": 2
  },
  {
   "cell_type": "code",
   "outputs": [
    {
     "name": "stdout",
     "output_type": "stream",
     "text": [
      "Index(['Strada', 'Localizzazione', 'ParticolaritaStrade', 'Segnaletica',\n",
      "       'Min_Latitudine', 'Max_Latitudine', 'Min_Longitudine',\n",
      "       'Max_Longitudine', 'Totale_Feriti', 'Totale_Deceduti',\n",
      "       'NumeroIncidenti', 'TipoStrada', 'Pavimentazione'],\n",
      "      dtype='object')\n"
     ]
    }
   ],
   "source": [
    "print(df.columns)"
   ],
   "metadata": {
    "collapsed": false,
    "ExecuteTime": {
     "end_time": "2024-03-21T17:58:33.207591Z",
     "start_time": "2024-03-21T17:58:33.180168Z"
    }
   },
   "id": "cbe6277cdf128b70",
   "execution_count": 3
  },
  {
   "cell_type": "code",
   "outputs": [],
   "source": [
    "import numpy as np\n",
    "def calcola_indice_pericolosita(df):\n",
    "    w1 = 0.05\n",
    "    w2 = 0.08\n",
    "    w3 = 0.16\n",
    "    w4 = 5.0\n",
    "    w5 = 6.0\n",
    "    w6 = 7.0\n",
    "    w7 = 6.0\n",
    "    \n",
    "    numero_incidenti = df['NumeroIncidenti']\n",
    "    numero_feriti = df['Totale_Feriti']\n",
    "    numero_morti = df['Totale_Deceduti']\n",
    "    tipo_strada = df['Localizzazione']\n",
    "    segnaletica = df['Segnaletica']\n",
    "    pavimentazione = df['Pavimentazione']\n",
    "    corsie_strada = df['TipoStrada']\n",
    "    \n",
    "    # Calcolo del fattore tipo di strada\n",
    "    if tipo_strada == 'Strada Urbana' or tipo_strada == 'Statale entro l\\'abitato' or tipo_strada == 'Regionale entro l\\'abitato' or tipo_strada == 'Provinciale entro l\\'abitato':\n",
    "        fattore_tipo_strada = 8.0\n",
    "    elif tipo_strada == 'Comunale extraurbana' or tipo_strada == 'Regionale' or tipo_strada == 'Statale':\n",
    "        fattore_tipo_strada = 10.0\n",
    "    elif tipo_strada == 'Autostrada':\n",
    "        fattore_tipo_strada = 5.0\n",
    "    else:\n",
    "        fattore_tipo_strada = 7.0  # Valore di default per altri tipi di strada\n",
    "    \n",
    "    # Calcolo del fattore segnaletica\n",
    "    if segnaletica == 'Orizzontale':\n",
    "        fattore_segnaletica = 8.0\n",
    "    elif segnaletica == 'Verticale':\n",
    "        fattore_segnaletica = 6.0\n",
    "    elif segnaletica == 'Verticale ed orizzontale':\n",
    "        fattore_segnaletica = 4.0\n",
    "    else:\n",
    "        fattore_segnaletica = 10.0  # Valore di default per segnaletica assente\n",
    "    \n",
    "    # Calcolo fattore pavimentazione\n",
    "    if pavimentazione == 'Asfaltata' or pavimentazione == 'In conglomerato cementizio' or pavimentazione=='Lastricata':\n",
    "        fattore_pavimentazione = 5.0\n",
    "    elif pavimentazione == 'Acciotolata' or pavimentazione=='In cubetti di porfido':\n",
    "        fattore_pavimentazione = 7.0\n",
    "    elif pavimentazione in ['Sterrata', 'Fondo naturale', 'Con buche', 'Strada pavimentata dissestata', 'Inghiaiata']:\n",
    "        fattore_pavimentazione = 10.0\n",
    "    else:\n",
    "        fattore_pavimentazione = 8.0\n",
    "    \n",
    "    #Calcolo fattore numero corsie\n",
    "    if corsie_strada in ['Una carreggiata a senso unico di marcia','Due carreggiate', 'Più di due carreggiate']:\n",
    "        fattore_corsie = 7.0\n",
    "    elif corsie_strada in ['Una carreggiata a doppio senso','Una carreggiata a senso unico alternato']:\n",
    "        fattore_corsie = 10.0\n",
    "    else:\n",
    "        fattore_corsie = 5.0\n",
    "    # Calcolo dell'indice di pericolosità\n",
    "    indice_pericolosita = (w1 * np.log(numero_incidenti)) + (w2 * numero_feriti) + (w3 * numero_morti) + (w4 * fattore_tipo_strada) + (w5 * fattore_segnaletica) + (w6 * fattore_pavimentazione + w7 * fattore_corsie)\n",
    "    \n",
    "    return indice_pericolosita"
   ],
   "metadata": {
    "collapsed": false,
    "ExecuteTime": {
     "end_time": "2024-03-21T17:58:33.990995Z",
     "start_time": "2024-03-21T17:58:33.913202Z"
    }
   },
   "id": "7e127dc62a55402d",
   "execution_count": 4
  },
  {
   "cell_type": "code",
   "outputs": [],
   "source": [
    "df['Indice_Pericolosita'] = df.apply(calcola_indice_pericolosita, axis=1)"
   ],
   "metadata": {
    "collapsed": false,
    "ExecuteTime": {
     "end_time": "2024-03-21T17:58:36.370099Z",
     "start_time": "2024-03-21T17:58:34.620762Z"
    }
   },
   "id": "d375e66e578839c9",
   "execution_count": 5
  },
  {
   "cell_type": "code",
   "outputs": [
    {
     "name": "stdout",
     "output_type": "stream",
     "text": [
      "126.34986122886681\n",
      "390.05692724399944\n"
     ]
    }
   ],
   "source": [
    "print(df['Indice_Pericolosita'].min())\n",
    "print(df['Indice_Pericolosita'].max())"
   ],
   "metadata": {
    "collapsed": false,
    "ExecuteTime": {
     "end_time": "2024-03-21T17:58:37.091882Z",
     "start_time": "2024-03-21T17:58:37.056348Z"
    }
   },
   "id": "1d4150e6c0af4725",
   "execution_count": 6
  },
  {
   "cell_type": "code",
   "outputs": [],
   "source": [
    "from sklearn.tree import DecisionTreeRegressor\n",
    "model = DecisionTreeRegressor()"
   ],
   "metadata": {
    "collapsed": false,
    "ExecuteTime": {
     "end_time": "2024-03-21T17:58:39.104149Z",
     "start_time": "2024-03-21T17:58:37.798536Z"
    }
   },
   "id": "bb3239704ef725dd",
   "execution_count": 7
  },
  {
   "cell_type": "code",
   "outputs": [],
   "source": [
    "#X = df[['NumeroIncidenti', 'Totale_Feriti', 'Totale_Deceduti', 'Localizzazione', 'Segnaletica', 'Pavimentazione', 'TipoStrada']]\n",
    "X = df[['Localizzazione', 'Segnaletica', 'Pavimentazione', 'TipoStrada']]\n",
    "y = df['Indice_Pericolosita']"
   ],
   "metadata": {
    "collapsed": false,
    "ExecuteTime": {
     "end_time": "2024-03-21T17:58:39.148140Z",
     "start_time": "2024-03-21T17:58:39.113297Z"
    }
   },
   "id": "421225495ef1e071",
   "execution_count": 8
  },
  {
   "cell_type": "code",
   "outputs": [
    {
     "name": "stdout",
     "output_type": "stream",
     "text": [
      "Index(['Localizzazione', 'Segnaletica', 'Pavimentazione', 'TipoStrada'], dtype='object')\n"
     ]
    }
   ],
   "source": [
    "print(X.columns)"
   ],
   "metadata": {
    "collapsed": false,
    "ExecuteTime": {
     "end_time": "2024-03-21T17:58:40.700460Z",
     "start_time": "2024-03-21T17:58:40.674346Z"
    }
   },
   "id": "6321770d1e1a7244",
   "execution_count": 9
  },
  {
   "cell_type": "code",
   "outputs": [
    {
     "name": "stderr",
     "output_type": "stream",
     "text": [
      "/var/folders/_2/6_j3_33x7zndfv3zc3xhbx080000gn/T/ipykernel_62407/2049701497.py:14: SettingWithCopyWarning: \n",
      "A value is trying to be set on a copy of a slice from a DataFrame.\n",
      "Try using .loc[row_indexer,col_indexer] = value instead\n",
      "\n",
      "See the caveats in the documentation: https://pandas.pydata.org/pandas-docs/stable/user_guide/indexing.html#returning-a-view-versus-a-copy\n",
      "  X['Localizzazione'] = X['Localizzazione'].map(mapping_localizzazione)\n"
     ]
    }
   ],
   "source": [
    "mapping_localizzazione = {\n",
    "    'Strada Urbana': 1,\n",
    "    'Comunale extraurbana': 2,\n",
    "    'Altra strada': 3,\n",
    "    'Statale': 4,\n",
    "    'Autostrada': 5,\n",
    "    \"Statale entro l'abitato\": 6,\n",
    "    'Assente': 7,\n",
    "    \"Regionale entro l'abitato\": 8,\n",
    "    \"Provinciale entro l'abitato\": 9,\n",
    "    'Regionale': 10,\n",
    "    'Provinciale': 11\n",
    "}\n",
    "X['Localizzazione'] = X['Localizzazione'].map(mapping_localizzazione)"
   ],
   "metadata": {
    "collapsed": false,
    "ExecuteTime": {
     "end_time": "2024-03-21T17:58:41.711214Z",
     "start_time": "2024-03-21T17:58:41.664925Z"
    }
   },
   "id": "7e1441e5e0f6ae7",
   "execution_count": 10
  },
  {
   "cell_type": "code",
   "outputs": [
    {
     "name": "stderr",
     "output_type": "stream",
     "text": [
      "/var/folders/_2/6_j3_33x7zndfv3zc3xhbx080000gn/T/ipykernel_62407/283722746.py:10: SettingWithCopyWarning: \n",
      "A value is trying to be set on a copy of a slice from a DataFrame.\n",
      "Try using .loc[row_indexer,col_indexer] = value instead\n",
      "\n",
      "See the caveats in the documentation: https://pandas.pydata.org/pandas-docs/stable/user_guide/indexing.html#returning-a-view-versus-a-copy\n",
      "  X['Segnaletica'] = X['Segnaletica'].map(mapping)\n"
     ]
    }
   ],
   "source": [
    "mapping = {\n",
    "    'Verticale ed orizzontale': 1,\n",
    "    'Verticale': 2,\n",
    "    'Assente': 3,\n",
    "    'Orizzontale': 4,\n",
    "    'Temporanea di cantiere': 5\n",
    "}\n",
    "\n",
    "# Applica il mapping alla colonna 'Segnaletica'\n",
    "X['Segnaletica'] = X['Segnaletica'].map(mapping)"
   ],
   "metadata": {
    "collapsed": false,
    "ExecuteTime": {
     "end_time": "2024-03-21T17:58:42.822482Z",
     "start_time": "2024-03-21T17:58:42.788569Z"
    }
   },
   "id": "5a706b615299a193",
   "execution_count": 11
  },
  {
   "cell_type": "code",
   "outputs": [
    {
     "name": "stderr",
     "output_type": "stream",
     "text": [
      "/var/folders/_2/6_j3_33x7zndfv3zc3xhbx080000gn/T/ipykernel_62407/2997903724.py:14: SettingWithCopyWarning: \n",
      "A value is trying to be set on a copy of a slice from a DataFrame.\n",
      "Try using .loc[row_indexer,col_indexer] = value instead\n",
      "\n",
      "See the caveats in the documentation: https://pandas.pydata.org/pandas-docs/stable/user_guide/indexing.html#returning-a-view-versus-a-copy\n",
      "  X['Pavimentazione'] = X['Pavimentazione'].map(pavimentazione_mapping)\n"
     ]
    }
   ],
   "source": [
    "pavimentazione_mapping = {\n",
    "    'Asfaltata': 1,\n",
    "    'Acciotolata': 2,\n",
    "    'In cubetti di porfido': 3,\n",
    "    'Sterrata': 4,\n",
    "    'Lastricata': 5,\n",
    "    'Fondo naturale': 6,\n",
    "    'Con buche': 7,\n",
    "    'Strada pavimentata dissestata': 8,\n",
    "    'Assente': 9,\n",
    "    'Inghiaiata': 10,\n",
    "    'In conglomerato cementizio': 11\n",
    "}\n",
    "X['Pavimentazione'] = X['Pavimentazione'].map(pavimentazione_mapping)"
   ],
   "metadata": {
    "collapsed": false,
    "ExecuteTime": {
     "end_time": "2024-03-21T17:58:43.488252Z",
     "start_time": "2024-03-21T17:58:43.403456Z"
    }
   },
   "id": "e8fc646d909777ed",
   "execution_count": 12
  },
  {
   "cell_type": "code",
   "outputs": [
    {
     "name": "stderr",
     "output_type": "stream",
     "text": [
      "/var/folders/_2/6_j3_33x7zndfv3zc3xhbx080000gn/T/ipykernel_62407/2491695254.py:11: SettingWithCopyWarning: \n",
      "A value is trying to be set on a copy of a slice from a DataFrame.\n",
      "Try using .loc[row_indexer,col_indexer] = value instead\n",
      "\n",
      "See the caveats in the documentation: https://pandas.pydata.org/pandas-docs/stable/user_guide/indexing.html#returning-a-view-versus-a-copy\n",
      "  X['TipoStrada'] = X['TipoStrada'].map(mapping_tipo_strada)\n"
     ]
    }
   ],
   "source": [
    "mapping_tipo_strada = {\n",
    "    'Una carreggiata a senso unico di marcia': 1,\n",
    "    'Una carreggiata a doppio senso': 2,\n",
    "    'Più di due carreggiate': 3,\n",
    "    'Due carreggiate': 4,\n",
    "    'Una carreggiata a senso unico alternato': 5,\n",
    "    'Assente': 6\n",
    "}\n",
    "\n",
    "# Applica il mapping alla colonna 'TipoStrada'\n",
    "X['TipoStrada'] = X['TipoStrada'].map(mapping_tipo_strada)"
   ],
   "metadata": {
    "collapsed": false,
    "ExecuteTime": {
     "end_time": "2024-03-21T17:58:44.289195Z",
     "start_time": "2024-03-21T17:58:44.142465Z"
    }
   },
   "id": "a4630c029cae1128",
   "execution_count": 13
  },
  {
   "cell_type": "code",
   "outputs": [
    {
     "name": "stdout",
     "output_type": "stream",
     "text": [
      "   Localizzazione  Segnaletica  Pavimentazione  TipoStrada\n",
      "0               1            1               1           1\n",
      "1               2            1               1           1\n",
      "2               3            1               1           1\n",
      "3               3            1               1           2\n",
      "4               3            2               1           1\n",
      "5               2            1               1           1\n",
      "6               4            1               1           1\n",
      "7               3            1               1           1\n",
      "8               5            1               1           2\n",
      "9               5            1               1           1\n"
     ]
    }
   ],
   "source": [
    "print(X.head(10))"
   ],
   "metadata": {
    "collapsed": false,
    "ExecuteTime": {
     "end_time": "2024-03-21T17:58:45.170185Z",
     "start_time": "2024-03-21T17:58:45.059665Z"
    }
   },
   "id": "8607d5c2e15425e8",
   "execution_count": 14
  },
  {
   "cell_type": "code",
   "outputs": [],
   "source": [
    "from sklearn.model_selection import train_test_split\n",
    "# Dividi il dataset in set di addestramento e set di test\n",
    "X_train, X_test, y_train, y_test = train_test_split(X, y, test_size=0.15, random_state=42)\n"
   ],
   "metadata": {
    "collapsed": false,
    "ExecuteTime": {
     "end_time": "2024-03-21T17:58:52.410332Z",
     "start_time": "2024-03-21T17:58:52.370777Z"
    }
   },
   "id": "f6e2ce403469b0e5",
   "execution_count": 15
  },
  {
   "cell_type": "code",
   "outputs": [
    {
     "data": {
      "text/plain": "DecisionTreeRegressor()",
      "text/html": "<style>#sk-container-id-1 {\n  /* Definition of color scheme common for light and dark mode */\n  --sklearn-color-text: black;\n  --sklearn-color-line: gray;\n  /* Definition of color scheme for unfitted estimators */\n  --sklearn-color-unfitted-level-0: #fff5e6;\n  --sklearn-color-unfitted-level-1: #f6e4d2;\n  --sklearn-color-unfitted-level-2: #ffe0b3;\n  --sklearn-color-unfitted-level-3: chocolate;\n  /* Definition of color scheme for fitted estimators */\n  --sklearn-color-fitted-level-0: #f0f8ff;\n  --sklearn-color-fitted-level-1: #d4ebff;\n  --sklearn-color-fitted-level-2: #b3dbfd;\n  --sklearn-color-fitted-level-3: cornflowerblue;\n\n  /* Specific color for light theme */\n  --sklearn-color-text-on-default-background: var(--sg-text-color, var(--theme-code-foreground, var(--jp-content-font-color1, black)));\n  --sklearn-color-background: var(--sg-background-color, var(--theme-background, var(--jp-layout-color0, white)));\n  --sklearn-color-border-box: var(--sg-text-color, var(--theme-code-foreground, var(--jp-content-font-color1, black)));\n  --sklearn-color-icon: #696969;\n\n  @media (prefers-color-scheme: dark) {\n    /* Redefinition of color scheme for dark theme */\n    --sklearn-color-text-on-default-background: var(--sg-text-color, var(--theme-code-foreground, var(--jp-content-font-color1, white)));\n    --sklearn-color-background: var(--sg-background-color, var(--theme-background, var(--jp-layout-color0, #111)));\n    --sklearn-color-border-box: var(--sg-text-color, var(--theme-code-foreground, var(--jp-content-font-color1, white)));\n    --sklearn-color-icon: #878787;\n  }\n}\n\n#sk-container-id-1 {\n  color: var(--sklearn-color-text);\n}\n\n#sk-container-id-1 pre {\n  padding: 0;\n}\n\n#sk-container-id-1 input.sk-hidden--visually {\n  border: 0;\n  clip: rect(1px 1px 1px 1px);\n  clip: rect(1px, 1px, 1px, 1px);\n  height: 1px;\n  margin: -1px;\n  overflow: hidden;\n  padding: 0;\n  position: absolute;\n  width: 1px;\n}\n\n#sk-container-id-1 div.sk-dashed-wrapped {\n  border: 1px dashed var(--sklearn-color-line);\n  margin: 0 0.4em 0.5em 0.4em;\n  box-sizing: border-box;\n  padding-bottom: 0.4em;\n  background-color: var(--sklearn-color-background);\n}\n\n#sk-container-id-1 div.sk-container {\n  /* jupyter's `normalize.less` sets `[hidden] { display: none; }`\n     but bootstrap.min.css set `[hidden] { display: none !important; }`\n     so we also need the `!important` here to be able to override the\n     default hidden behavior on the sphinx rendered scikit-learn.org.\n     See: https://github.com/scikit-learn/scikit-learn/issues/21755 */\n  display: inline-block !important;\n  position: relative;\n}\n\n#sk-container-id-1 div.sk-text-repr-fallback {\n  display: none;\n}\n\ndiv.sk-parallel-item,\ndiv.sk-serial,\ndiv.sk-item {\n  /* draw centered vertical line to link estimators */\n  background-image: linear-gradient(var(--sklearn-color-text-on-default-background), var(--sklearn-color-text-on-default-background));\n  background-size: 2px 100%;\n  background-repeat: no-repeat;\n  background-position: center center;\n}\n\n/* Parallel-specific style estimator block */\n\n#sk-container-id-1 div.sk-parallel-item::after {\n  content: \"\";\n  width: 100%;\n  border-bottom: 2px solid var(--sklearn-color-text-on-default-background);\n  flex-grow: 1;\n}\n\n#sk-container-id-1 div.sk-parallel {\n  display: flex;\n  align-items: stretch;\n  justify-content: center;\n  background-color: var(--sklearn-color-background);\n  position: relative;\n}\n\n#sk-container-id-1 div.sk-parallel-item {\n  display: flex;\n  flex-direction: column;\n}\n\n#sk-container-id-1 div.sk-parallel-item:first-child::after {\n  align-self: flex-end;\n  width: 50%;\n}\n\n#sk-container-id-1 div.sk-parallel-item:last-child::after {\n  align-self: flex-start;\n  width: 50%;\n}\n\n#sk-container-id-1 div.sk-parallel-item:only-child::after {\n  width: 0;\n}\n\n/* Serial-specific style estimator block */\n\n#sk-container-id-1 div.sk-serial {\n  display: flex;\n  flex-direction: column;\n  align-items: center;\n  background-color: var(--sklearn-color-background);\n  padding-right: 1em;\n  padding-left: 1em;\n}\n\n\n/* Toggleable style: style used for estimator/Pipeline/ColumnTransformer box that is\nclickable and can be expanded/collapsed.\n- Pipeline and ColumnTransformer use this feature and define the default style\n- Estimators will overwrite some part of the style using the `sk-estimator` class\n*/\n\n/* Pipeline and ColumnTransformer style (default) */\n\n#sk-container-id-1 div.sk-toggleable {\n  /* Default theme specific background. It is overwritten whether we have a\n  specific estimator or a Pipeline/ColumnTransformer */\n  background-color: var(--sklearn-color-background);\n}\n\n/* Toggleable label */\n#sk-container-id-1 label.sk-toggleable__label {\n  cursor: pointer;\n  display: block;\n  width: 100%;\n  margin-bottom: 0;\n  padding: 0.5em;\n  box-sizing: border-box;\n  text-align: center;\n}\n\n#sk-container-id-1 label.sk-toggleable__label-arrow:before {\n  /* Arrow on the left of the label */\n  content: \"▸\";\n  float: left;\n  margin-right: 0.25em;\n  color: var(--sklearn-color-icon);\n}\n\n#sk-container-id-1 label.sk-toggleable__label-arrow:hover:before {\n  color: var(--sklearn-color-text);\n}\n\n/* Toggleable content - dropdown */\n\n#sk-container-id-1 div.sk-toggleable__content {\n  max-height: 0;\n  max-width: 0;\n  overflow: hidden;\n  text-align: left;\n  /* unfitted */\n  background-color: var(--sklearn-color-unfitted-level-0);\n}\n\n#sk-container-id-1 div.sk-toggleable__content.fitted {\n  /* fitted */\n  background-color: var(--sklearn-color-fitted-level-0);\n}\n\n#sk-container-id-1 div.sk-toggleable__content pre {\n  margin: 0.2em;\n  border-radius: 0.25em;\n  color: var(--sklearn-color-text);\n  /* unfitted */\n  background-color: var(--sklearn-color-unfitted-level-0);\n}\n\n#sk-container-id-1 div.sk-toggleable__content.fitted pre {\n  /* unfitted */\n  background-color: var(--sklearn-color-fitted-level-0);\n}\n\n#sk-container-id-1 input.sk-toggleable__control:checked~div.sk-toggleable__content {\n  /* Expand drop-down */\n  max-height: 200px;\n  max-width: 100%;\n  overflow: auto;\n}\n\n#sk-container-id-1 input.sk-toggleable__control:checked~label.sk-toggleable__label-arrow:before {\n  content: \"▾\";\n}\n\n/* Pipeline/ColumnTransformer-specific style */\n\n#sk-container-id-1 div.sk-label input.sk-toggleable__control:checked~label.sk-toggleable__label {\n  color: var(--sklearn-color-text);\n  background-color: var(--sklearn-color-unfitted-level-2);\n}\n\n#sk-container-id-1 div.sk-label.fitted input.sk-toggleable__control:checked~label.sk-toggleable__label {\n  background-color: var(--sklearn-color-fitted-level-2);\n}\n\n/* Estimator-specific style */\n\n/* Colorize estimator box */\n#sk-container-id-1 div.sk-estimator input.sk-toggleable__control:checked~label.sk-toggleable__label {\n  /* unfitted */\n  background-color: var(--sklearn-color-unfitted-level-2);\n}\n\n#sk-container-id-1 div.sk-estimator.fitted input.sk-toggleable__control:checked~label.sk-toggleable__label {\n  /* fitted */\n  background-color: var(--sklearn-color-fitted-level-2);\n}\n\n#sk-container-id-1 div.sk-label label.sk-toggleable__label,\n#sk-container-id-1 div.sk-label label {\n  /* The background is the default theme color */\n  color: var(--sklearn-color-text-on-default-background);\n}\n\n/* On hover, darken the color of the background */\n#sk-container-id-1 div.sk-label:hover label.sk-toggleable__label {\n  color: var(--sklearn-color-text);\n  background-color: var(--sklearn-color-unfitted-level-2);\n}\n\n/* Label box, darken color on hover, fitted */\n#sk-container-id-1 div.sk-label.fitted:hover label.sk-toggleable__label.fitted {\n  color: var(--sklearn-color-text);\n  background-color: var(--sklearn-color-fitted-level-2);\n}\n\n/* Estimator label */\n\n#sk-container-id-1 div.sk-label label {\n  font-family: monospace;\n  font-weight: bold;\n  display: inline-block;\n  line-height: 1.2em;\n}\n\n#sk-container-id-1 div.sk-label-container {\n  text-align: center;\n}\n\n/* Estimator-specific */\n#sk-container-id-1 div.sk-estimator {\n  font-family: monospace;\n  border: 1px dotted var(--sklearn-color-border-box);\n  border-radius: 0.25em;\n  box-sizing: border-box;\n  margin-bottom: 0.5em;\n  /* unfitted */\n  background-color: var(--sklearn-color-unfitted-level-0);\n}\n\n#sk-container-id-1 div.sk-estimator.fitted {\n  /* fitted */\n  background-color: var(--sklearn-color-fitted-level-0);\n}\n\n/* on hover */\n#sk-container-id-1 div.sk-estimator:hover {\n  /* unfitted */\n  background-color: var(--sklearn-color-unfitted-level-2);\n}\n\n#sk-container-id-1 div.sk-estimator.fitted:hover {\n  /* fitted */\n  background-color: var(--sklearn-color-fitted-level-2);\n}\n\n/* Specification for estimator info (e.g. \"i\" and \"?\") */\n\n/* Common style for \"i\" and \"?\" */\n\n.sk-estimator-doc-link,\na:link.sk-estimator-doc-link,\na:visited.sk-estimator-doc-link {\n  float: right;\n  font-size: smaller;\n  line-height: 1em;\n  font-family: monospace;\n  background-color: var(--sklearn-color-background);\n  border-radius: 1em;\n  height: 1em;\n  width: 1em;\n  text-decoration: none !important;\n  margin-left: 1ex;\n  /* unfitted */\n  border: var(--sklearn-color-unfitted-level-1) 1pt solid;\n  color: var(--sklearn-color-unfitted-level-1);\n}\n\n.sk-estimator-doc-link.fitted,\na:link.sk-estimator-doc-link.fitted,\na:visited.sk-estimator-doc-link.fitted {\n  /* fitted */\n  border: var(--sklearn-color-fitted-level-1) 1pt solid;\n  color: var(--sklearn-color-fitted-level-1);\n}\n\n/* On hover */\ndiv.sk-estimator:hover .sk-estimator-doc-link:hover,\n.sk-estimator-doc-link:hover,\ndiv.sk-label-container:hover .sk-estimator-doc-link:hover,\n.sk-estimator-doc-link:hover {\n  /* unfitted */\n  background-color: var(--sklearn-color-unfitted-level-3);\n  color: var(--sklearn-color-background);\n  text-decoration: none;\n}\n\ndiv.sk-estimator.fitted:hover .sk-estimator-doc-link.fitted:hover,\n.sk-estimator-doc-link.fitted:hover,\ndiv.sk-label-container:hover .sk-estimator-doc-link.fitted:hover,\n.sk-estimator-doc-link.fitted:hover {\n  /* fitted */\n  background-color: var(--sklearn-color-fitted-level-3);\n  color: var(--sklearn-color-background);\n  text-decoration: none;\n}\n\n/* Span, style for the box shown on hovering the info icon */\n.sk-estimator-doc-link span {\n  display: none;\n  z-index: 9999;\n  position: relative;\n  font-weight: normal;\n  right: .2ex;\n  padding: .5ex;\n  margin: .5ex;\n  width: min-content;\n  min-width: 20ex;\n  max-width: 50ex;\n  color: var(--sklearn-color-text);\n  box-shadow: 2pt 2pt 4pt #999;\n  /* unfitted */\n  background: var(--sklearn-color-unfitted-level-0);\n  border: .5pt solid var(--sklearn-color-unfitted-level-3);\n}\n\n.sk-estimator-doc-link.fitted span {\n  /* fitted */\n  background: var(--sklearn-color-fitted-level-0);\n  border: var(--sklearn-color-fitted-level-3);\n}\n\n.sk-estimator-doc-link:hover span {\n  display: block;\n}\n\n/* \"?\"-specific style due to the `<a>` HTML tag */\n\n#sk-container-id-1 a.estimator_doc_link {\n  float: right;\n  font-size: 1rem;\n  line-height: 1em;\n  font-family: monospace;\n  background-color: var(--sklearn-color-background);\n  border-radius: 1rem;\n  height: 1rem;\n  width: 1rem;\n  text-decoration: none;\n  /* unfitted */\n  color: var(--sklearn-color-unfitted-level-1);\n  border: var(--sklearn-color-unfitted-level-1) 1pt solid;\n}\n\n#sk-container-id-1 a.estimator_doc_link.fitted {\n  /* fitted */\n  border: var(--sklearn-color-fitted-level-1) 1pt solid;\n  color: var(--sklearn-color-fitted-level-1);\n}\n\n/* On hover */\n#sk-container-id-1 a.estimator_doc_link:hover {\n  /* unfitted */\n  background-color: var(--sklearn-color-unfitted-level-3);\n  color: var(--sklearn-color-background);\n  text-decoration: none;\n}\n\n#sk-container-id-1 a.estimator_doc_link.fitted:hover {\n  /* fitted */\n  background-color: var(--sklearn-color-fitted-level-3);\n}\n</style><div id=\"sk-container-id-1\" class=\"sk-top-container\"><div class=\"sk-text-repr-fallback\"><pre>DecisionTreeRegressor()</pre><b>In a Jupyter environment, please rerun this cell to show the HTML representation or trust the notebook. <br />On GitHub, the HTML representation is unable to render, please try loading this page with nbviewer.org.</b></div><div class=\"sk-container\" hidden><div class=\"sk-item\"><div class=\"sk-estimator fitted sk-toggleable\"><input class=\"sk-toggleable__control sk-hidden--visually\" id=\"sk-estimator-id-1\" type=\"checkbox\" checked><label for=\"sk-estimator-id-1\" class=\"sk-toggleable__label fitted sk-toggleable__label-arrow fitted\">&nbsp;&nbsp;DecisionTreeRegressor<a class=\"sk-estimator-doc-link fitted\" rel=\"noreferrer\" target=\"_blank\" href=\"https://scikit-learn.org/1.4/modules/generated/sklearn.tree.DecisionTreeRegressor.html\">?<span>Documentation for DecisionTreeRegressor</span></a><span class=\"sk-estimator-doc-link fitted\">i<span>Fitted</span></span></label><div class=\"sk-toggleable__content fitted\"><pre>DecisionTreeRegressor()</pre></div> </div></div></div></div>"
     },
     "execution_count": 16,
     "metadata": {},
     "output_type": "execute_result"
    }
   ],
   "source": [
    "# Addestra il modello\n",
    "model.fit(X_train, y_train)"
   ],
   "metadata": {
    "collapsed": false,
    "ExecuteTime": {
     "end_time": "2024-03-21T17:58:55.268337Z",
     "start_time": "2024-03-21T17:58:55.167978Z"
    }
   },
   "id": "d2d26543271fb01d",
   "execution_count": 16
  },
  {
   "cell_type": "code",
   "outputs": [
    {
     "name": "stdout",
     "output_type": "stream",
     "text": [
      "Mean Squared Error: 59.088770138248194\n",
      "R-squared: 0.8710457561567624\n"
     ]
    }
   ],
   "source": [
    "from sklearn.metrics import mean_squared_error, r2_score\n",
    "# Effettua predizioni sul set di test\n",
    "predictions = model.predict(X_test)\n",
    "\n",
    "# Valuta le prestazioni del modello\n",
    "mse = mean_squared_error(y_test, predictions)\n",
    "r2 = r2_score(y_test, predictions)\n",
    "\n",
    "print(\"Mean Squared Error:\", mse)\n",
    "print(\"R-squared:\", r2)"
   ],
   "metadata": {
    "collapsed": false,
    "ExecuteTime": {
     "end_time": "2024-03-21T17:58:56.304596Z",
     "start_time": "2024-03-21T17:58:56.189679Z"
    }
   },
   "id": "19a52f5d9f232af1",
   "execution_count": 17
  },
  {
   "cell_type": "code",
   "outputs": [
    {
     "data": {
      "text/plain": "['modello_regression_tree.pkl']"
     },
     "execution_count": 18,
     "metadata": {},
     "output_type": "execute_result"
    }
   ],
   "source": [
    "import joblib\n",
    "\n",
    "joblib.dump(model, 'modello_regression_tree.pkl')"
   ],
   "metadata": {
    "collapsed": false,
    "ExecuteTime": {
     "end_time": "2024-03-21T18:01:06.134116Z",
     "start_time": "2024-03-21T18:01:06.039847Z"
    }
   },
   "id": "360c4d522c65022a",
   "execution_count": 18
  },
  {
   "cell_type": "code",
   "outputs": [],
   "source": [],
   "metadata": {
    "collapsed": false
   },
   "id": "e834342717eaf8f3"
  }
 ],
 "metadata": {
  "kernelspec": {
   "display_name": "Python 3",
   "language": "python",
   "name": "python3"
  },
  "language_info": {
   "codemirror_mode": {
    "name": "ipython",
    "version": 2
   },
   "file_extension": ".py",
   "mimetype": "text/x-python",
   "name": "python",
   "nbconvert_exporter": "python",
   "pygments_lexer": "ipython2",
   "version": "2.7.6"
  }
 },
 "nbformat": 4,
 "nbformat_minor": 5
}
