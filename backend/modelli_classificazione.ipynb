{
 "cells": [
  {
   "cell_type": "code",
   "execution_count": 1,
   "id": "initial_id",
   "metadata": {
    "collapsed": true,
    "ExecuteTime": {
     "end_time": "2024-03-21T18:42:08.869915Z",
     "start_time": "2024-03-21T18:42:03.666466700Z"
    }
   },
   "outputs": [],
   "source": [
    "import sklearn\n",
    "import pandas as pd"
   ]
  },
  {
   "cell_type": "code",
   "outputs": [],
   "source": [
    "df = pd.read_json('dataset_strade.json')"
   ],
   "metadata": {
    "collapsed": false,
    "ExecuteTime": {
     "end_time": "2024-03-21T18:42:10.009745700Z",
     "start_time": "2024-03-21T18:42:09.725108Z"
    }
   },
   "id": "7a6a83a734e692b1",
   "execution_count": 2
  },
  {
   "cell_type": "code",
   "outputs": [
    {
     "name": "stdout",
     "output_type": "stream",
     "text": [
      "Index(['Strada', 'Localizzazione', 'ParticolaritaStrade', 'Segnaletica',\n",
      "       'Min_Latitudine', 'Max_Latitudine', 'Min_Longitudine',\n",
      "       'Max_Longitudine', 'Totale_Feriti', 'Totale_Deceduti',\n",
      "       'NumeroIncidenti', 'TipoStrada', 'Pavimentazione'],\n",
      "      dtype='object')\n"
     ]
    }
   ],
   "source": [
    "print(df.columns)"
   ],
   "metadata": {
    "collapsed": false,
    "ExecuteTime": {
     "end_time": "2024-03-21T18:42:10.737540600Z",
     "start_time": "2024-03-21T18:42:10.672489400Z"
    }
   },
   "id": "cbe6277cdf128b70",
   "execution_count": 3
  },
  {
   "cell_type": "code",
   "outputs": [],
   "source": [
    "import numpy as np\n",
    "def calcola_indice_pericolosita(df):\n",
    "    w1 = 0.05\n",
    "    w2 = 0.08\n",
    "    w3 = 0.16\n",
    "    w4 = 5.0\n",
    "    w5 = 6.0\n",
    "    w6 = 7.0\n",
    "    w7 = 6.0\n",
    "    \n",
    "    numero_incidenti = df['NumeroIncidenti']\n",
    "    numero_feriti = df['Totale_Feriti']\n",
    "    numero_morti = df['Totale_Deceduti']\n",
    "    tipo_strada = df['Localizzazione']\n",
    "    segnaletica = df['Segnaletica']\n",
    "    pavimentazione = df['Pavimentazione']\n",
    "    corsie_strada = df['TipoStrada']\n",
    "    \n",
    "    # Calcolo del fattore tipo di strada\n",
    "    if tipo_strada == 'Strada Urbana' or tipo_strada == 'Statale entro l\\'abitato' or tipo_strada == 'Regionale entro l\\'abitato' or tipo_strada == 'Provinciale entro l\\'abitato':\n",
    "        fattore_tipo_strada = 8.0\n",
    "    elif tipo_strada == 'Comunale extraurbana' or tipo_strada == 'Regionale' or tipo_strada == 'Statale':\n",
    "        fattore_tipo_strada = 10.0\n",
    "    elif tipo_strada == 'Autostrada':\n",
    "        fattore_tipo_strada = 5.0\n",
    "    else:\n",
    "        fattore_tipo_strada = 7.0  # Valore di default per altri tipi di strada\n",
    "    \n",
    "    # Calcolo del fattore segnaletica\n",
    "    if segnaletica == 'Orizzontale':\n",
    "        fattore_segnaletica = 8.0\n",
    "    elif segnaletica == 'Verticale':\n",
    "        fattore_segnaletica = 6.0\n",
    "    elif segnaletica == 'Verticale ed orizzontale':\n",
    "        fattore_segnaletica = 4.0\n",
    "    else:\n",
    "        fattore_segnaletica = 10.0  # Valore di default per segnaletica assente\n",
    "    \n",
    "    # Calcolo fattore pavimentazione\n",
    "    if pavimentazione == 'Asfaltata' or pavimentazione == 'In conglomerato cementizio' or pavimentazione=='Lastricata':\n",
    "        fattore_pavimentazione = 5.0\n",
    "    elif pavimentazione == 'Acciotolata' or pavimentazione=='In cubetti di porfido':\n",
    "        fattore_pavimentazione = 7.0\n",
    "    elif pavimentazione in ['Sterrata', 'Fondo naturale', 'Con buche', 'Strada pavimentata dissestata', 'Inghiaiata']:\n",
    "        fattore_pavimentazione = 10.0\n",
    "    else:\n",
    "        fattore_pavimentazione = 8.0\n",
    "    \n",
    "    #Calcolo fattore numero corsie\n",
    "    if corsie_strada in ['Una carreggiata a senso unico di marcia','Due carreggiate', 'Più di due carreggiate']:\n",
    "        fattore_corsie = 7.0\n",
    "    elif corsie_strada in ['Una carreggiata a doppio senso','Una carreggiata a senso unico alternato']:\n",
    "        fattore_corsie = 10.0\n",
    "    else:\n",
    "        fattore_corsie = 5.0\n",
    "    # Calcolo dell'indice di pericolosità\n",
    "    indice_pericolosita = (w1 * np.log(numero_incidenti)) + (w2 * numero_feriti) + (w3 * numero_morti) + (w4 * fattore_tipo_strada) + (w5 * fattore_segnaletica) + (w6 * fattore_pavimentazione + w7 * fattore_corsie)\n",
    "    \n",
    "    return indice_pericolosita"
   ],
   "metadata": {
    "collapsed": false,
    "ExecuteTime": {
     "end_time": "2024-03-21T18:42:11.783306Z",
     "start_time": "2024-03-21T18:42:11.720257500Z"
    }
   },
   "id": "7e127dc62a55402d",
   "execution_count": 4
  },
  {
   "cell_type": "code",
   "outputs": [],
   "source": [
    "df['Indice_Pericolosita'] = df.apply(calcola_indice_pericolosita, axis=1)"
   ],
   "metadata": {
    "collapsed": false,
    "ExecuteTime": {
     "end_time": "2024-03-21T18:42:16.206483800Z",
     "start_time": "2024-03-21T18:42:15.269658300Z"
    }
   },
   "id": "d375e66e578839c9",
   "execution_count": 5
  },
  {
   "cell_type": "code",
   "outputs": [
    {
     "name": "stdout",
     "output_type": "stream",
     "text": [
      "126.34986122886681\n",
      "390.05692724399944\n"
     ]
    }
   ],
   "source": [
    "print(df['Indice_Pericolosita'].min())\n",
    "print(df['Indice_Pericolosita'].max())"
   ],
   "metadata": {
    "collapsed": false,
    "ExecuteTime": {
     "end_time": "2024-03-21T18:42:16.767256100Z",
     "start_time": "2024-03-21T18:42:16.704354500Z"
    }
   },
   "id": "1d4150e6c0af4725",
   "execution_count": 6
  },
  {
   "cell_type": "code",
   "outputs": [],
   "source": [
    "from sklearn.tree import DecisionTreeRegressor\n",
    "model = DecisionTreeRegressor()"
   ],
   "metadata": {
    "collapsed": false,
    "ExecuteTime": {
     "end_time": "2024-03-21T18:42:19.504089Z",
     "start_time": "2024-03-21T18:42:18.090607300Z"
    }
   },
   "id": "bb3239704ef725dd",
   "execution_count": 7
  },
  {
   "cell_type": "code",
   "outputs": [],
   "source": [
    "#X = df[['NumeroIncidenti', 'Totale_Feriti', 'Totale_Deceduti', 'Localizzazione', 'Segnaletica', 'Pavimentazione', 'TipoStrada']]\n",
    "X = df[['Localizzazione', 'Segnaletica', 'Pavimentazione', 'TipoStrada']]\n",
    "y = df['Indice_Pericolosita']"
   ],
   "metadata": {
    "collapsed": false,
    "ExecuteTime": {
     "end_time": "2024-03-21T18:42:20.326724600Z",
     "start_time": "2024-03-21T18:42:20.295491200Z"
    }
   },
   "id": "421225495ef1e071",
   "execution_count": 8
  },
  {
   "cell_type": "code",
   "outputs": [
    {
     "name": "stdout",
     "output_type": "stream",
     "text": [
      "Index(['Localizzazione', 'Segnaletica', 'Pavimentazione', 'TipoStrada'], dtype='object')\n"
     ]
    }
   ],
   "source": [
    "print(X.columns)"
   ],
   "metadata": {
    "collapsed": false,
    "ExecuteTime": {
     "end_time": "2024-03-21T18:42:22.220263Z",
     "start_time": "2024-03-21T18:42:22.130693300Z"
    }
   },
   "id": "6321770d1e1a7244",
   "execution_count": 9
  },
  {
   "cell_type": "code",
   "outputs": [
    {
     "name": "stderr",
     "output_type": "stream",
     "text": [
      "C:\\Users\\gioel\\AppData\\Local\\Temp\\ipykernel_1736\\2049701497.py:14: SettingWithCopyWarning: \n",
      "A value is trying to be set on a copy of a slice from a DataFrame.\n",
      "Try using .loc[row_indexer,col_indexer] = value instead\n",
      "\n",
      "See the caveats in the documentation: https://pandas.pydata.org/pandas-docs/stable/user_guide/indexing.html#returning-a-view-versus-a-copy\n",
      "  X['Localizzazione'] = X['Localizzazione'].map(mapping_localizzazione)\n"
     ]
    }
   ],
   "source": [
    "mapping_localizzazione = {\n",
    "    'Strada Urbana': 1,\n",
    "    'Comunale extraurbana': 2,\n",
    "    'Altra strada': 3,\n",
    "    'Statale': 4,\n",
    "    'Autostrada': 5,\n",
    "    \"Statale entro l'abitato\": 6,\n",
    "    'Assente': 7,\n",
    "    \"Regionale entro l'abitato\": 8,\n",
    "    \"Provinciale entro l'abitato\": 9,\n",
    "    'Regionale': 10,\n",
    "    'Provinciale': 11\n",
    "}\n",
    "X['Localizzazione'] = X['Localizzazione'].map(mapping_localizzazione)"
   ],
   "metadata": {
    "collapsed": false,
    "ExecuteTime": {
     "end_time": "2024-03-21T18:42:23.407115900Z",
     "start_time": "2024-03-21T18:42:23.333834200Z"
    }
   },
   "id": "7e1441e5e0f6ae7",
   "execution_count": 10
  },
  {
   "cell_type": "code",
   "outputs": [
    {
     "name": "stderr",
     "output_type": "stream",
     "text": [
      "C:\\Users\\gioel\\AppData\\Local\\Temp\\ipykernel_1736\\283722746.py:10: SettingWithCopyWarning: \n",
      "A value is trying to be set on a copy of a slice from a DataFrame.\n",
      "Try using .loc[row_indexer,col_indexer] = value instead\n",
      "\n",
      "See the caveats in the documentation: https://pandas.pydata.org/pandas-docs/stable/user_guide/indexing.html#returning-a-view-versus-a-copy\n",
      "  X['Segnaletica'] = X['Segnaletica'].map(mapping)\n"
     ]
    }
   ],
   "source": [
    "mapping = {\n",
    "    'Verticale ed orizzontale': 1,\n",
    "    'Verticale': 2,\n",
    "    'Assente': 3,\n",
    "    'Orizzontale': 4,\n",
    "    'Temporanea di cantiere': 5\n",
    "}\n",
    "\n",
    "# Applica il mapping alla colonna 'Segnaletica'\n",
    "X['Segnaletica'] = X['Segnaletica'].map(mapping)"
   ],
   "metadata": {
    "collapsed": false,
    "ExecuteTime": {
     "end_time": "2024-03-21T18:42:24.298014Z",
     "start_time": "2024-03-21T18:42:24.219311800Z"
    }
   },
   "id": "5a706b615299a193",
   "execution_count": 11
  },
  {
   "cell_type": "code",
   "outputs": [
    {
     "name": "stderr",
     "output_type": "stream",
     "text": [
      "C:\\Users\\gioel\\AppData\\Local\\Temp\\ipykernel_1736\\2997903724.py:14: SettingWithCopyWarning: \n",
      "A value is trying to be set on a copy of a slice from a DataFrame.\n",
      "Try using .loc[row_indexer,col_indexer] = value instead\n",
      "\n",
      "See the caveats in the documentation: https://pandas.pydata.org/pandas-docs/stable/user_guide/indexing.html#returning-a-view-versus-a-copy\n",
      "  X['Pavimentazione'] = X['Pavimentazione'].map(pavimentazione_mapping)\n"
     ]
    }
   ],
   "source": [
    "pavimentazione_mapping = {\n",
    "    'Asfaltata': 1,\n",
    "    'Acciotolata': 2,\n",
    "    'In cubetti di porfido': 3,\n",
    "    'Sterrata': 4,\n",
    "    'Lastricata': 5,\n",
    "    'Fondo naturale': 6,\n",
    "    'Con buche': 7,\n",
    "    'Strada pavimentata dissestata': 8,\n",
    "    'Assente': 9,\n",
    "    'Inghiaiata': 10,\n",
    "    'In conglomerato cementizio': 11\n",
    "}\n",
    "X['Pavimentazione'] = X['Pavimentazione'].map(pavimentazione_mapping)"
   ],
   "metadata": {
    "collapsed": false,
    "ExecuteTime": {
     "end_time": "2024-03-21T18:42:25.134002900Z",
     "start_time": "2024-03-21T18:42:25.102766Z"
    }
   },
   "id": "e8fc646d909777ed",
   "execution_count": 12
  },
  {
   "cell_type": "code",
   "outputs": [
    {
     "name": "stderr",
     "output_type": "stream",
     "text": [
      "C:\\Users\\gioel\\AppData\\Local\\Temp\\ipykernel_1736\\2491695254.py:11: SettingWithCopyWarning: \n",
      "A value is trying to be set on a copy of a slice from a DataFrame.\n",
      "Try using .loc[row_indexer,col_indexer] = value instead\n",
      "\n",
      "See the caveats in the documentation: https://pandas.pydata.org/pandas-docs/stable/user_guide/indexing.html#returning-a-view-versus-a-copy\n",
      "  X['TipoStrada'] = X['TipoStrada'].map(mapping_tipo_strada)\n"
     ]
    }
   ],
   "source": [
    "mapping_tipo_strada = {\n",
    "    'Una carreggiata a senso unico di marcia': 1,\n",
    "    'Una carreggiata a doppio senso': 2,\n",
    "    'Più di due carreggiate': 3,\n",
    "    'Due carreggiate': 4,\n",
    "    'Una carreggiata a senso unico alternato': 5,\n",
    "    'Assente': 6\n",
    "}\n",
    "\n",
    "# Applica il mapping alla colonna 'TipoStrada'\n",
    "X['TipoStrada'] = X['TipoStrada'].map(mapping_tipo_strada)"
   ],
   "metadata": {
    "collapsed": false,
    "ExecuteTime": {
     "end_time": "2024-03-21T18:42:25.839761900Z",
     "start_time": "2024-03-21T18:42:25.761118100Z"
    }
   },
   "id": "a4630c029cae1128",
   "execution_count": 13
  },
  {
   "cell_type": "code",
   "outputs": [
    {
     "name": "stdout",
     "output_type": "stream",
     "text": [
      "   Localizzazione  Segnaletica  Pavimentazione  TipoStrada\n",
      "0               1            1               1           1\n",
      "1               2            1               1           1\n",
      "2               3            1               1           1\n",
      "3               3            1               1           2\n",
      "4               3            2               1           1\n",
      "5               2            1               1           1\n",
      "6               4            1               1           1\n",
      "7               3            1               1           1\n",
      "8               5            1               1           2\n",
      "9               5            1               1           1\n"
     ]
    }
   ],
   "source": [
    "print(X.head(10))"
   ],
   "metadata": {
    "collapsed": false,
    "ExecuteTime": {
     "end_time": "2024-03-21T18:42:26.777244700Z",
     "start_time": "2024-03-21T18:42:26.682968Z"
    }
   },
   "id": "8607d5c2e15425e8",
   "execution_count": 14
  },
  {
   "cell_type": "code",
   "outputs": [],
   "source": [
    "from sklearn.model_selection import train_test_split\n",
    "# Dividi il dataset in set di addestramento e set di test\n",
    "X_train, X_test, y_train, y_test = train_test_split(X, y, test_size=0.15, random_state=42)\n"
   ],
   "metadata": {
    "collapsed": false,
    "ExecuteTime": {
     "end_time": "2024-03-21T18:42:28.879294Z",
     "start_time": "2024-03-21T18:42:28.848031800Z"
    }
   },
   "id": "f6e2ce403469b0e5",
   "execution_count": 15
  },
  {
   "cell_type": "code",
   "outputs": [
    {
     "data": {
      "text/plain": "DecisionTreeRegressor()",
      "text/html": "<style>#sk-container-id-1 {color: black;background-color: white;}#sk-container-id-1 pre{padding: 0;}#sk-container-id-1 div.sk-toggleable {background-color: white;}#sk-container-id-1 label.sk-toggleable__label {cursor: pointer;display: block;width: 100%;margin-bottom: 0;padding: 0.3em;box-sizing: border-box;text-align: center;}#sk-container-id-1 label.sk-toggleable__label-arrow:before {content: \"▸\";float: left;margin-right: 0.25em;color: #696969;}#sk-container-id-1 label.sk-toggleable__label-arrow:hover:before {color: black;}#sk-container-id-1 div.sk-estimator:hover label.sk-toggleable__label-arrow:before {color: black;}#sk-container-id-1 div.sk-toggleable__content {max-height: 0;max-width: 0;overflow: hidden;text-align: left;background-color: #f0f8ff;}#sk-container-id-1 div.sk-toggleable__content pre {margin: 0.2em;color: black;border-radius: 0.25em;background-color: #f0f8ff;}#sk-container-id-1 input.sk-toggleable__control:checked~div.sk-toggleable__content {max-height: 200px;max-width: 100%;overflow: auto;}#sk-container-id-1 input.sk-toggleable__control:checked~label.sk-toggleable__label-arrow:before {content: \"▾\";}#sk-container-id-1 div.sk-estimator input.sk-toggleable__control:checked~label.sk-toggleable__label {background-color: #d4ebff;}#sk-container-id-1 div.sk-label input.sk-toggleable__control:checked~label.sk-toggleable__label {background-color: #d4ebff;}#sk-container-id-1 input.sk-hidden--visually {border: 0;clip: rect(1px 1px 1px 1px);clip: rect(1px, 1px, 1px, 1px);height: 1px;margin: -1px;overflow: hidden;padding: 0;position: absolute;width: 1px;}#sk-container-id-1 div.sk-estimator {font-family: monospace;background-color: #f0f8ff;border: 1px dotted black;border-radius: 0.25em;box-sizing: border-box;margin-bottom: 0.5em;}#sk-container-id-1 div.sk-estimator:hover {background-color: #d4ebff;}#sk-container-id-1 div.sk-parallel-item::after {content: \"\";width: 100%;border-bottom: 1px solid gray;flex-grow: 1;}#sk-container-id-1 div.sk-label:hover label.sk-toggleable__label {background-color: #d4ebff;}#sk-container-id-1 div.sk-serial::before {content: \"\";position: absolute;border-left: 1px solid gray;box-sizing: border-box;top: 0;bottom: 0;left: 50%;z-index: 0;}#sk-container-id-1 div.sk-serial {display: flex;flex-direction: column;align-items: center;background-color: white;padding-right: 0.2em;padding-left: 0.2em;position: relative;}#sk-container-id-1 div.sk-item {position: relative;z-index: 1;}#sk-container-id-1 div.sk-parallel {display: flex;align-items: stretch;justify-content: center;background-color: white;position: relative;}#sk-container-id-1 div.sk-item::before, #sk-container-id-1 div.sk-parallel-item::before {content: \"\";position: absolute;border-left: 1px solid gray;box-sizing: border-box;top: 0;bottom: 0;left: 50%;z-index: -1;}#sk-container-id-1 div.sk-parallel-item {display: flex;flex-direction: column;z-index: 1;position: relative;background-color: white;}#sk-container-id-1 div.sk-parallel-item:first-child::after {align-self: flex-end;width: 50%;}#sk-container-id-1 div.sk-parallel-item:last-child::after {align-self: flex-start;width: 50%;}#sk-container-id-1 div.sk-parallel-item:only-child::after {width: 0;}#sk-container-id-1 div.sk-dashed-wrapped {border: 1px dashed gray;margin: 0 0.4em 0.5em 0.4em;box-sizing: border-box;padding-bottom: 0.4em;background-color: white;}#sk-container-id-1 div.sk-label label {font-family: monospace;font-weight: bold;display: inline-block;line-height: 1.2em;}#sk-container-id-1 div.sk-label-container {text-align: center;}#sk-container-id-1 div.sk-container {/* jupyter's `normalize.less` sets `[hidden] { display: none; }` but bootstrap.min.css set `[hidden] { display: none !important; }` so we also need the `!important` here to be able to override the default hidden behavior on the sphinx rendered scikit-learn.org. See: https://github.com/scikit-learn/scikit-learn/issues/21755 */display: inline-block !important;position: relative;}#sk-container-id-1 div.sk-text-repr-fallback {display: none;}</style><div id=\"sk-container-id-1\" class=\"sk-top-container\"><div class=\"sk-text-repr-fallback\"><pre>DecisionTreeRegressor()</pre><b>In a Jupyter environment, please rerun this cell to show the HTML representation or trust the notebook. <br />On GitHub, the HTML representation is unable to render, please try loading this page with nbviewer.org.</b></div><div class=\"sk-container\" hidden><div class=\"sk-item\"><div class=\"sk-estimator sk-toggleable\"><input class=\"sk-toggleable__control sk-hidden--visually\" id=\"sk-estimator-id-1\" type=\"checkbox\" checked><label for=\"sk-estimator-id-1\" class=\"sk-toggleable__label sk-toggleable__label-arrow\">DecisionTreeRegressor</label><div class=\"sk-toggleable__content\"><pre>DecisionTreeRegressor()</pre></div></div></div></div></div>"
     },
     "execution_count": 16,
     "metadata": {},
     "output_type": "execute_result"
    }
   ],
   "source": [
    "# Addestra il modello\n",
    "model.fit(X_train, y_train)"
   ],
   "metadata": {
    "collapsed": false,
    "ExecuteTime": {
     "end_time": "2024-03-21T18:42:29.840880600Z",
     "start_time": "2024-03-21T18:42:29.778404Z"
    }
   },
   "id": "d2d26543271fb01d",
   "execution_count": 16
  },
  {
   "cell_type": "code",
   "outputs": [
    {
     "name": "stdout",
     "output_type": "stream",
     "text": [
      "Mean Squared Error: 59.0691643653523\n",
      "R-squared: 0.8710885434344945\n"
     ]
    }
   ],
   "source": [
    "from sklearn.metrics import mean_squared_error, r2_score\n",
    "# Effettua predizioni sul set di test\n",
    "predictions = model.predict(X_test)\n",
    "\n",
    "# Valuta le prestazioni del modello\n",
    "mse = mean_squared_error(y_test, predictions)\n",
    "r2 = r2_score(y_test, predictions)\n",
    "\n",
    "print(\"Mean Squared Error:\", mse)\n",
    "print(\"R-squared:\", r2)"
   ],
   "metadata": {
    "collapsed": false,
    "ExecuteTime": {
     "end_time": "2024-03-21T18:42:31.190572Z",
     "start_time": "2024-03-21T18:42:31.122042400Z"
    }
   },
   "id": "19a52f5d9f232af1",
   "execution_count": 17
  },
  {
   "cell_type": "code",
   "outputs": [
    {
     "data": {
      "text/plain": "['modello_regression_tree.pkl']"
     },
     "execution_count": 18,
     "metadata": {},
     "output_type": "execute_result"
    }
   ],
   "source": [
    "import joblib\n",
    "\n",
    "joblib.dump(model, 'modello_regression_tree.pkl')"
   ],
   "metadata": {
    "collapsed": false,
    "ExecuteTime": {
     "end_time": "2024-03-21T18:42:34.763284900Z",
     "start_time": "2024-03-21T18:42:34.732044300Z"
    }
   },
   "id": "360c4d522c65022a",
   "execution_count": 18
  },
  {
   "cell_type": "code",
   "outputs": [],
   "source": [],
   "metadata": {
    "collapsed": false
   },
   "id": "e834342717eaf8f3"
  }
 ],
 "metadata": {
  "kernelspec": {
   "display_name": "Python 3",
   "language": "python",
   "name": "python3"
  },
  "language_info": {
   "codemirror_mode": {
    "name": "ipython",
    "version": 2
   },
   "file_extension": ".py",
   "mimetype": "text/x-python",
   "name": "python",
   "nbconvert_exporter": "python",
   "pygments_lexer": "ipython2",
   "version": "2.7.6"
  }
 },
 "nbformat": 4,
 "nbformat_minor": 5
}
