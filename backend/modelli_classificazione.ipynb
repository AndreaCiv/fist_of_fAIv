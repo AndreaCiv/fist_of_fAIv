{
 "cells": [
  {
   "cell_type": "code",
   "execution_count": null,
   "id": "initial_id",
   "metadata": {
    "ExecuteTime": {
     "end_time": "2024-03-21T18:42:08.869915Z",
     "start_time": "2024-03-21T18:42:03.666466700Z"
    },
    "collapsed": true
   },
   "outputs": [],
   "source": [
    "import sklearn\n",
    "import pandas as pd"
   ]
  },
  {
   "cell_type": "code",
   "execution_count": null,
   "id": "7a6a83a734e692b1",
   "metadata": {
    "ExecuteTime": {
     "end_time": "2024-03-21T18:42:10.009745700Z",
     "start_time": "2024-03-21T18:42:09.725108Z"
    },
    "collapsed": false
   },
   "outputs": [],
   "source": [
    "df = pd.read_json('dataset_strade.json')"
   ]
  },
  {
   "cell_type": "code",
   "execution_count": null,
   "id": "cbe6277cdf128b70",
   "metadata": {
    "ExecuteTime": {
     "end_time": "2024-03-21T18:42:10.737540600Z",
     "start_time": "2024-03-21T18:42:10.672489400Z"
    },
    "collapsed": false
   },
   "outputs": [],
   "source": [
    "print(df.columns)"
   ]
  },
  {
   "cell_type": "code",
   "execution_count": null,
   "id": "7e127dc62a55402d",
   "metadata": {
    "ExecuteTime": {
     "end_time": "2024-03-21T18:42:11.783306Z",
     "start_time": "2024-03-21T18:42:11.720257500Z"
    },
    "collapsed": false
   },
   "outputs": [],
   "source": [
    "import numpy as np\n",
    "def calcola_indice_pericolosita(df):\n",
    "    w1 = 0.05\n",
    "    w2 = 0.08\n",
    "    w3 = 0.16\n",
    "    w4 = 5.0\n",
    "    w5 = 6.0\n",
    "    w6 = 7.0\n",
    "    w7 = 6.0\n",
    "    \n",
    "    numero_incidenti = df['NumeroIncidenti']\n",
    "    numero_feriti = df['Totale_Feriti']\n",
    "    numero_morti = df['Totale_Deceduti']\n",
    "    tipo_strada = df['Localizzazione']\n",
    "    segnaletica = df['Segnaletica']\n",
    "    pavimentazione = df['Pavimentazione']\n",
    "    corsie_strada = df['TipoStrada']\n",
    "    \n",
    "    # Calcolo del fattore tipo di strada\n",
    "    if tipo_strada == 'Strada Urbana' or tipo_strada == 'Statale entro l\\'abitato' or tipo_strada == 'Regionale entro l\\'abitato' or tipo_strada == 'Provinciale entro l\\'abitato':\n",
    "        fattore_tipo_strada = 8.0\n",
    "    elif tipo_strada == 'Comunale extraurbana' or tipo_strada == 'Regionale' or tipo_strada == 'Statale':\n",
    "        fattore_tipo_strada = 10.0\n",
    "    elif tipo_strada == 'Autostrada':\n",
    "        fattore_tipo_strada = 5.0\n",
    "    else:\n",
    "        fattore_tipo_strada = 7.0  # Valore di default per altri tipi di strada\n",
    "    \n",
    "    # Calcolo del fattore segnaletica\n",
    "    if segnaletica == 'Orizzontale':\n",
    "        fattore_segnaletica = 8.0\n",
    "    elif segnaletica == 'Verticale':\n",
    "        fattore_segnaletica = 6.0\n",
    "    elif segnaletica == 'Verticale ed orizzontale':\n",
    "        fattore_segnaletica = 4.0\n",
    "    else:\n",
    "        fattore_segnaletica = 10.0  # Valore di default per segnaletica assente\n",
    "    \n",
    "    # Calcolo fattore pavimentazione\n",
    "    if pavimentazione == 'Asfaltata' or pavimentazione == 'In conglomerato cementizio' or pavimentazione=='Lastricata':\n",
    "        fattore_pavimentazione = 5.0\n",
    "    elif pavimentazione == 'Acciotolata' or pavimentazione=='In cubetti di porfido':\n",
    "        fattore_pavimentazione = 7.0\n",
    "    elif pavimentazione in ['Sterrata', 'Fondo naturale', 'Con buche', 'Strada pavimentata dissestata', 'Inghiaiata']:\n",
    "        fattore_pavimentazione = 10.0\n",
    "    else:\n",
    "        fattore_pavimentazione = 8.0\n",
    "    \n",
    "    #Calcolo fattore numero corsie\n",
    "    if corsie_strada in ['Una carreggiata a senso unico di marcia','Due carreggiate', 'Più di due carreggiate']:\n",
    "        fattore_corsie = 7.0\n",
    "    elif corsie_strada in ['Una carreggiata a doppio senso','Una carreggiata a senso unico alternato']:\n",
    "        fattore_corsie = 10.0\n",
    "    else:\n",
    "        fattore_corsie = 5.0\n",
    "    # Calcolo dell'indice di pericolosità\n",
    "    indice_pericolosita = (w1 * np.log(numero_incidenti)) + (w2 * numero_feriti) + (w3 * numero_morti) + (w4 * fattore_tipo_strada) + (w5 * fattore_segnaletica) + (w6 * fattore_pavimentazione + w7 * fattore_corsie)\n",
    "    \n",
    "    return indice_pericolosita"
   ]
  },
  {
   "cell_type": "code",
   "execution_count": null,
   "id": "d375e66e578839c9",
   "metadata": {
    "ExecuteTime": {
     "end_time": "2024-03-21T18:42:16.206483800Z",
     "start_time": "2024-03-21T18:42:15.269658300Z"
    },
    "collapsed": false
   },
   "outputs": [],
   "source": [
    "df['Indice_Pericolosita'] = df.apply(calcola_indice_pericolosita, axis=1)"
   ]
  },
  {
   "cell_type": "code",
   "execution_count": null,
   "id": "1d4150e6c0af4725",
   "metadata": {
    "ExecuteTime": {
     "end_time": "2024-03-21T18:42:16.767256100Z",
     "start_time": "2024-03-21T18:42:16.704354500Z"
    },
    "collapsed": false
   },
   "outputs": [],
   "source": [
    "print(df['Indice_Pericolosita'].min())\n",
    "print(df['Indice_Pericolosita'].max())"
   ]
  },
  {
   "cell_type": "code",
   "execution_count": null,
   "id": "bb3239704ef725dd",
   "metadata": {
    "ExecuteTime": {
     "end_time": "2024-03-21T18:42:19.504089Z",
     "start_time": "2024-03-21T18:42:18.090607300Z"
    },
    "collapsed": false
   },
   "outputs": [],
   "source": [
    "from sklearn.tree import DecisionTreeRegressor\n",
    "model = DecisionTreeRegressor()"
   ]
  },
  {
   "cell_type": "code",
   "execution_count": null,
   "id": "421225495ef1e071",
   "metadata": {
    "ExecuteTime": {
     "end_time": "2024-03-21T18:42:20.326724600Z",
     "start_time": "2024-03-21T18:42:20.295491200Z"
    },
    "collapsed": false
   },
   "outputs": [],
   "source": [
    "#X = df[['NumeroIncidenti', 'Totale_Feriti', 'Totale_Deceduti', 'Localizzazione', 'Segnaletica', 'Pavimentazione', 'TipoStrada']]\n",
    "X = df[['Localizzazione', 'Segnaletica', 'Pavimentazione', 'TipoStrada']]\n",
    "y = df['Indice_Pericolosita']"
   ]
  },
  {
   "cell_type": "code",
   "execution_count": null,
   "id": "6321770d1e1a7244",
   "metadata": {
    "ExecuteTime": {
     "end_time": "2024-03-21T18:42:22.220263Z",
     "start_time": "2024-03-21T18:42:22.130693300Z"
    },
    "collapsed": false
   },
   "outputs": [],
   "source": [
    "print(X.columns)"
   ]
  },
  {
   "cell_type": "code",
   "execution_count": null,
   "id": "7e1441e5e0f6ae7",
   "metadata": {
    "ExecuteTime": {
     "end_time": "2024-03-21T18:42:23.407115900Z",
     "start_time": "2024-03-21T18:42:23.333834200Z"
    },
    "collapsed": false
   },
   "outputs": [],
   "source": [
    "mapping_localizzazione = {\n",
    "    'Strada Urbana': 1,\n",
    "    'Comunale extraurbana': 2,\n",
    "    'Altra strada': 3,\n",
    "    'Statale': 4,\n",
    "    'Autostrada': 5,\n",
    "    \"Statale entro l'abitato\": 6,\n",
    "    'Assente': 7,\n",
    "    \"Regionale entro l'abitato\": 8,\n",
    "    \"Provinciale entro l'abitato\": 9,\n",
    "    'Regionale': 10,\n",
    "    'Provinciale': 11\n",
    "}\n",
    "X['Localizzazione'] = X['Localizzazione'].map(mapping_localizzazione)"
   ]
  },
  {
   "cell_type": "code",
   "execution_count": null,
   "id": "5a706b615299a193",
   "metadata": {
    "ExecuteTime": {
     "end_time": "2024-03-21T18:42:24.298014Z",
     "start_time": "2024-03-21T18:42:24.219311800Z"
    },
    "collapsed": false
   },
   "outputs": [],
   "source": [
    "mapping = {\n",
    "    'Verticale ed orizzontale': 1,\n",
    "    'Verticale': 2,\n",
    "    'Assente': 3,\n",
    "    'Orizzontale': 4,\n",
    "    'Temporanea di cantiere': 5\n",
    "}\n",
    "\n",
    "# Applica il mapping alla colonna 'Segnaletica'\n",
    "X['Segnaletica'] = X['Segnaletica'].map(mapping)"
   ]
  },
  {
   "cell_type": "code",
   "execution_count": null,
   "id": "e8fc646d909777ed",
   "metadata": {
    "ExecuteTime": {
     "end_time": "2024-03-21T18:42:25.134002900Z",
     "start_time": "2024-03-21T18:42:25.102766Z"
    },
    "collapsed": false
   },
   "outputs": [],
   "source": [
    "pavimentazione_mapping = {\n",
    "    'Asfaltata': 1,\n",
    "    'Acciotolata': 2,\n",
    "    'In cubetti di porfido': 3,\n",
    "    'Sterrata': 4,\n",
    "    'Lastricata': 5,\n",
    "    'Fondo naturale': 6,\n",
    "    'Con buche': 7,\n",
    "    'Strada pavimentata dissestata': 8,\n",
    "    'Assente': 9,\n",
    "    'Inghiaiata': 10,\n",
    "    'In conglomerato cementizio': 11\n",
    "}\n",
    "X['Pavimentazione'] = X['Pavimentazione'].map(pavimentazione_mapping)"
   ]
  },
  {
   "cell_type": "code",
   "execution_count": null,
   "id": "a4630c029cae1128",
   "metadata": {
    "ExecuteTime": {
     "end_time": "2024-03-21T18:42:25.839761900Z",
     "start_time": "2024-03-21T18:42:25.761118100Z"
    },
    "collapsed": false
   },
   "outputs": [],
   "source": [
    "mapping_tipo_strada = {\n",
    "    'Una carreggiata a senso unico di marcia': 1,\n",
    "    'Una carreggiata a doppio senso': 2,\n",
    "    'Più di due carreggiate': 3,\n",
    "    'Due carreggiate': 4,\n",
    "    'Una carreggiata a senso unico alternato': 5,\n",
    "    'Assente': 6\n",
    "}\n",
    "\n",
    "# Applica il mapping alla colonna 'TipoStrada'\n",
    "X['TipoStrada'] = X['TipoStrada'].map(mapping_tipo_strada)"
   ]
  },
  {
   "cell_type": "code",
   "execution_count": null,
   "id": "8607d5c2e15425e8",
   "metadata": {
    "ExecuteTime": {
     "end_time": "2024-03-21T18:42:26.777244700Z",
     "start_time": "2024-03-21T18:42:26.682968Z"
    },
    "collapsed": false
   },
   "outputs": [],
   "source": [
    "print(X.head(10))"
   ]
  },
  {
   "cell_type": "code",
   "execution_count": null,
   "id": "f6e2ce403469b0e5",
   "metadata": {
    "ExecuteTime": {
     "end_time": "2024-03-21T18:42:28.879294Z",
     "start_time": "2024-03-21T18:42:28.848031800Z"
    },
    "collapsed": false
   },
   "outputs": [],
   "source": [
    "from sklearn.model_selection import train_test_split\n",
    "# Dividi il dataset in set di addestramento e set di test\n",
    "X_train, X_test, y_train, y_test = train_test_split(X, y, test_size=0.15, random_state=42)\n"
   ]
  },
  {
   "cell_type": "code",
   "execution_count": null,
   "id": "d2d26543271fb01d",
   "metadata": {
    "ExecuteTime": {
     "end_time": "2024-03-21T18:42:29.840880600Z",
     "start_time": "2024-03-21T18:42:29.778404Z"
    },
    "collapsed": false
   },
   "outputs": [],
   "source": [
    "# Addestra il modello\n",
    "model.fit(X_train, y_train)"
   ]
  },
  {
   "cell_type": "code",
   "execution_count": null,
   "id": "19a52f5d9f232af1",
   "metadata": {
    "ExecuteTime": {
     "end_time": "2024-03-21T18:42:31.190572Z",
     "start_time": "2024-03-21T18:42:31.122042400Z"
    },
    "collapsed": false
   },
   "outputs": [],
   "source": [
    "from sklearn.metrics import mean_squared_error, r2_score\n",
    "# Effettua predizioni sul set di test\n",
    "predictions = model.predict(X_test)\n",
    "\n",
    "# Valuta le prestazioni del modello\n",
    "mse = mean_squared_error(y_test, predictions)\n",
    "r2 = r2_score(y_test, predictions)\n",
    "\n",
    "print(\"Mean Squared Error:\", mse)\n",
    "print(\"R-squared:\", r2)"
   ]
  },
  {
   "cell_type": "code",
   "execution_count": null,
   "id": "360c4d522c65022a",
   "metadata": {
    "ExecuteTime": {
     "end_time": "2024-03-21T18:42:34.763284900Z",
     "start_time": "2024-03-21T18:42:34.732044300Z"
    },
    "collapsed": false
   },
   "outputs": [],
   "source": [
    "import joblib\n",
    "\n",
    "joblib.dump(model, 'modello_regression_tree.pkl')"
   ]
  },
  {
   "cell_type": "code",
   "execution_count": null,
   "id": "e834342717eaf8f3",
   "metadata": {
    "collapsed": false
   },
   "outputs": [],
   "source": []
  }
 ],
 "metadata": {
  "kernelspec": {
   "display_name": "Python 3",
   "language": "python",
   "name": "python3"
  },
  "language_info": {
   "codemirror_mode": {
    "name": "ipython",
    "version": 2
   },
   "file_extension": ".py",
   "mimetype": "text/x-python",
   "name": "python",
   "nbconvert_exporter": "python",
   "pygments_lexer": "ipython2",
   "version": "3.9.16"
  }
 },
 "nbformat": 4,
 "nbformat_minor": 5
}
