{
 "cells": [
  {
   "cell_type": "code",
   "execution_count": 4,
   "outputs": [
    {
     "name": "stdout",
     "output_type": "stream",
     "text": [
      "**Trasporto pubblico:**\n",
      "\n",
      "* Congestione cronica e ritardi sulle linee della metropolitana\n",
      "* Autobus affollati e poco affidabili\n",
      "* Scarse opzioni di trasporti pubblici per le zone periferiche\n",
      "\n",
      "**Traffico:**\n",
      "\n",
      "* Ingorghi stradali frequenti durante le ore di punta e in caso di incidenti\n",
      "* Mancanza di parcheggi e prezzi elevati per il parcheggio\n",
      "* Inquinamento atmosferico dovuto alle emissioni dei veicoli\n",
      "\n",
      "**Inquinamento:**\n",
      "\n",
      "* Elevati livelli di inquinamento atmosferico, soprattutto nelle ore di punta\n",
      "* Traffico e industria contribuiscono all'inquinamento dell'aria e acustico\n",
      "* Gestione dei rifiuti inefficiente che porta all'accumulo di rifiuti e ai cattivi odori\n",
      "\n",
      "**Sovraffollamento:**\n",
      "\n",
      "* Alta densità di popolazione, soprattutto nel centro della città\n",
      "* Costo elevato della vita e alloggi scarsi\n",
      "* Infrastrutture inadeguate per gestire il gran numero di persone\n",
      "\n",
      "**Criminalità:**\n",
      "\n",
      "* Piccoli reati come borseggi e scippi sono comuni nelle aree turistiche\n",
      "* Criminalità organizzata presente, ma con un impatto relativamente contenuto sulla vita quotidiana\n",
      "\n",
      "**Infrastrutture:**\n",
      "\n",
      "* Strade e ponti fatiscenti in alcune parti della città\n",
      "* Infrastrutture di pubblica utilità inadeguate, come fognature e illuminazione\n",
      "* Mancanza di spazi verdi e parchi pubblici in molte zone\n",
      "\n",
      "**Gestione:**\n",
      "\n",
      "* Corruzione e inefficienza nella pubblica amministrazione\n",
      "* Scarso coinvolgimento dei cittadini nelle decisioni che riguardano la città\n",
      "* Pianificazione urbana disordinata e mancanza di visione a lungo termine\n",
      "\n",
      "**Turismo:**\n",
      "\n",
      "* Sovraffollamento nelle principali attrazioni turistiche\n",
      "* Aumento del costo della vita per i residenti a causa del turismo\n",
      "* Impatto ambientale del turismo di massa\n"
     ]
    }
   ],
   "source": [
    "import vertexai\n",
    "from vertexai.preview.generative_models import GenerativeModel\n",
    "\n",
    "project_id = \"spheric-time-417914\"\n",
    "location = \"europe-west8\"\n",
    "\n",
    "vertexai.init(project= project_id, location= location)\n",
    "\n",
    "model = GenerativeModel('gemini-pro')\n",
    "response = model.generate_content(\"Parlami dei problemi che si hanno a Roma come grande città\")\n",
    "\n",
    "print(response.text)"
   ],
   "metadata": {
    "collapsed": false,
    "ExecuteTime": {
     "end_time": "2024-03-21T16:42:24.592383200Z",
     "start_time": "2024-03-21T16:42:19.418503400Z"
    }
   }
  },
  {
   "cell_type": "code",
   "execution_count": 6,
   "outputs": [
    {
     "name": "stdout",
     "output_type": "stream",
     "text": [
      "candidates {\n",
      "  content {\n",
      "    role: \"model\"\n",
      "    parts {\n",
      "      text: \"**Trasporto pubblico:**\\n\\n* Congestione cronica e ritardi sulle linee della metropolitana\\n* Autobus affollati e poco affidabili\\n* Scarse opzioni di trasporti pubblici per le zone periferiche\\n\\n**Traffico:**\\n\\n* Ingorghi stradali frequenti durante le ore di punta e in caso di incidenti\\n* Mancanza di parcheggi e prezzi elevati per il parcheggio\\n* Inquinamento atmosferico dovuto alle emissioni dei veicoli\\n\\n**Inquinamento:**\\n\\n* Elevati livelli di inquinamento atmosferico, soprattutto nelle ore di punta\\n* Traffico e industria contribuiscono all\\'inquinamento dell\\'aria e acustico\\n* Gestione dei rifiuti inefficiente che porta all\\'accumulo di rifiuti e ai cattivi odori\\n\\n**Sovraffollamento:**\\n\\n* Alta densità di popolazione, soprattutto nel centro della città\\n* Costo elevato della vita e alloggi scarsi\\n* Infrastrutture inadeguate per gestire il gran numero di persone\\n\\n**Criminalità:**\\n\\n* Piccoli reati come borseggi e scippi sono comuni nelle aree turistiche\\n* Criminalità organizzata presente, ma con un impatto relativamente contenuto sulla vita quotidiana\\n\\n**Infrastrutture:**\\n\\n* Strade e ponti fatiscenti in alcune parti della città\\n* Infrastrutture di pubblica utilità inadeguate, come fognature e illuminazione\\n* Mancanza di spazi verdi e parchi pubblici in molte zone\\n\\n**Gestione:**\\n\\n* Corruzione e inefficienza nella pubblica amministrazione\\n* Scarso coinvolgimento dei cittadini nelle decisioni che riguardano la città\\n* Pianificazione urbana disordinata e mancanza di visione a lungo termine\\n\\n**Turismo:**\\n\\n* Sovraffollamento nelle principali attrazioni turistiche\\n* Aumento del costo della vita per i residenti a causa del turismo\\n* Impatto ambientale del turismo di massa\"\n",
      "    }\n",
      "  }\n",
      "  finish_reason: STOP\n",
      "  safety_ratings {\n",
      "    category: HARM_CATEGORY_HATE_SPEECH\n",
      "    probability: NEGLIGIBLE\n",
      "    probability_score: 0.0608634464\n",
      "    severity: HARM_SEVERITY_NEGLIGIBLE\n",
      "    severity_score: 0.0454372168\n",
      "  }\n",
      "  safety_ratings {\n",
      "    category: HARM_CATEGORY_DANGEROUS_CONTENT\n",
      "    probability: NEGLIGIBLE\n",
      "    probability_score: 0.131842449\n",
      "    severity: HARM_SEVERITY_NEGLIGIBLE\n",
      "    severity_score: 0.0950130522\n",
      "  }\n",
      "  safety_ratings {\n",
      "    category: HARM_CATEGORY_HARASSMENT\n",
      "    probability: NEGLIGIBLE\n",
      "    probability_score: 0.214362323\n",
      "    severity: HARM_SEVERITY_NEGLIGIBLE\n",
      "    severity_score: 0.101233482\n",
      "  }\n",
      "  safety_ratings {\n",
      "    category: HARM_CATEGORY_SEXUALLY_EXPLICIT\n",
      "    probability: NEGLIGIBLE\n",
      "    probability_score: 0.0629042387\n",
      "    severity: HARM_SEVERITY_NEGLIGIBLE\n",
      "    severity_score: 0.12765263\n",
      "  }\n",
      "}\n",
      "usage_metadata {\n",
      "  prompt_token_count: 12\n",
      "  candidates_token_count: 400\n",
      "  total_token_count: 412\n",
      "}\n",
      "\n"
     ]
    }
   ],
   "source": [
    "print(response)"
   ],
   "metadata": {
    "collapsed": false,
    "ExecuteTime": {
     "end_time": "2024-03-21T16:46:01.123786Z",
     "start_time": "2024-03-21T16:46:01.047677300Z"
    }
   }
  },
  {
   "cell_type": "code",
   "execution_count": 22,
   "outputs": [
    {
     "data": {
      "text/plain": "vertexai.generative_models._generative_models.GenerationResponse"
     },
     "execution_count": 22,
     "metadata": {},
     "output_type": "execute_result"
    }
   ],
   "source": [
    "type(response)"
   ],
   "metadata": {
    "collapsed": false,
    "ExecuteTime": {
     "end_time": "2024-03-21T16:49:54.921277400Z",
     "start_time": "2024-03-21T16:49:54.850766900Z"
    }
   }
  },
  {
   "cell_type": "code",
   "execution_count": 23,
   "outputs": [
    {
     "name": "stdout",
     "output_type": "stream",
     "text": [
      "{'text': \"**Trasporto pubblico:**\\n\\n* Congestione cronica e ritardi sulle linee della metropolitana\\n* Autobus affollati e poco affidabili\\n* Scarse opzioni di trasporti pubblici per le zone periferiche\\n\\n**Traffico:**\\n\\n* Ingorghi stradali frequenti durante le ore di punta e in caso di incidenti\\n* Mancanza di parcheggi e prezzi elevati per il parcheggio\\n* Inquinamento atmosferico dovuto alle emissioni dei veicoli\\n\\n**Inquinamento:**\\n\\n* Elevati livelli di inquinamento atmosferico, soprattutto nelle ore di punta\\n* Traffico e industria contribuiscono all'inquinamento dell'aria e acustico\\n* Gestione dei rifiuti inefficiente che porta all'accumulo di rifiuti e ai cattivi odori\\n\\n**Sovraffollamento:**\\n\\n* Alta densità di popolazione, soprattutto nel centro della città\\n* Costo elevato della vita e alloggi scarsi\\n* Infrastrutture inadeguate per gestire il gran numero di persone\\n\\n**Criminalità:**\\n\\n* Piccoli reati come borseggi e scippi sono comuni nelle aree turistiche\\n* Criminalità organizzata presente, ma con un impatto relativamente contenuto sulla vita quotidiana\\n\\n**Infrastrutture:**\\n\\n* Strade e ponti fatiscenti in alcune parti della città\\n* Infrastrutture di pubblica utilità inadeguate, come fognature e illuminazione\\n* Mancanza di spazi verdi e parchi pubblici in molte zone\\n\\n**Gestione:**\\n\\n* Corruzione e inefficienza nella pubblica amministrazione\\n* Scarso coinvolgimento dei cittadini nelle decisioni che riguardano la città\\n* Pianificazione urbana disordinata e mancanza di visione a lungo termine\\n\\n**Turismo:**\\n\\n* Sovraffollamento nelle principali attrazioni turistiche\\n* Aumento del costo della vita per i residenti a causa del turismo\\n* Impatto ambientale del turismo di massa\"}\n"
     ]
    }
   ],
   "source": [
    "risposta = response.candidates[0].content.parts[0].to_dict()\n",
    "print(risposta)"
   ],
   "metadata": {
    "collapsed": false,
    "ExecuteTime": {
     "end_time": "2024-03-21T16:50:54.398974100Z",
     "start_time": "2024-03-21T16:50:54.383343400Z"
    }
   }
  }
 ],
 "metadata": {
  "kernelspec": {
   "display_name": "Python 3",
   "language": "python",
   "name": "python3"
  },
  "language_info": {
   "codemirror_mode": {
    "name": "ipython",
    "version": 2
   },
   "file_extension": ".py",
   "mimetype": "text/x-python",
   "name": "python",
   "nbconvert_exporter": "python",
   "pygments_lexer": "ipython2",
   "version": "2.7.6"
  }
 },
 "nbformat": 4,
 "nbformat_minor": 0
}
